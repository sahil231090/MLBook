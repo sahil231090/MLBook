{
 "cells": [
  {
   "cell_type": "markdown",
   "metadata": {
    "_cell_guid": "83708667-4fdc-1563-7b3a-06b6575d2865"
   },
   "source": [
    "\n",
    "\n",
    "# Classification-Which IPO to purchase?\n",
    "\n",
    "Instead of attempting to predict exactly what the total first day return will be, we are going to attempt to predict if the IPO will be one we should buy for a trade or not.\n",
    "\n",
    "The dataset used is the https://www.iposcoop.com/scoop-track-record-from-2000-to-present/. \n",
    "\n",
    "Focus of this case study are:\n",
    "* Feature Engineering and feature selection\n",
    "* Build trading strategy using classification (Classification of long/short signals)\n",
    "* Data Discretization- Handling categorical Data\n",
    "* Data Exploration and visualisation \n"
   ]
  },
  {
   "cell_type": "markdown",
   "metadata": {},
   "source": [
    "## Content"
   ]
  },
  {
   "cell_type": "markdown",
   "metadata": {},
   "source": [
    "* [1. Introduction](#0)\n",
    "* [2. Getting Started - Load Libraries and Dataset](#1)\n",
    "    * [2.1. Load Libraries](#1.1)    \n",
    "    * [2.2. Load Dataset](#1.2)\n",
    "* [3. Exploratory Data Analysis](#2)\n",
    "    * [3.1 Descriptive Statistics](#2.1)    \n",
    "    * [3.2. Data Visualisation](#2.2)\n",
    "* [4. Data Preparation](#3)\n",
    "    * [4.1.Feature Engineering and Data Preparation](#3.1)\n",
    "    * [4.2.Preparing the data for classification](#3.2)\n",
    "    * [4.3.Feature Selection](#3.3)   \n",
    "* [5.Evaluate Algorithms and Models](#4)        \n",
    "    * [5.1. Train/Test Split](#4.1)\n",
    "    * [5.2. Test Options and Evaluation Metrics](#4.2)\n",
    "    * [5.3. Compare Models and Algorithms](#4.3)  \n",
    "* [6. Model Tuning and Grid Search](#5)  \n",
    "* [7. Finalize the Model](#6)  \n",
    "    * [7.1. Results on test dataset](#6.1)\n",
    "    * [7.1. Variable Intuition/Feature Selection](#6.2) \n",
    "    * [7.3. Backtesting](#6.3)\n"
   ]
  },
  {
   "cell_type": "markdown",
   "metadata": {},
   "source": [
    "<a id='0'></a>\n",
    "# 1. Introduction"
   ]
  },
  {
   "cell_type": "markdown",
   "metadata": {},
   "source": [
    "The dataset used is the https://www.iposcoop.com/scoop-track-record-from-2000-to-present/. The dataset has columns related to the IPO which are Trade Date, Issuer, Joint Lead Managers, Offer Price, Opening Price, Close Price, 1st Day percentage Px Chng, $Change Opening, $ Change Close and Star Ratings. \n",
    "\n",
    "The predicted variable is **First day Open to Close percentage change**. In case the First day Open to Close percentage change is good (i.e. > 2.5%), then the performance of the IPO is considered good and is flagged as 1 otherwise it is considered to be 0. \n",
    "The predicted variables is forecasted as a function of other variables, and a trading strategy is decided accordingly. "
   ]
  },
  {
   "cell_type": "markdown",
   "metadata": {},
   "source": [
    "<a id='1'></a>\n",
    "# 2. Getting Started- Loading the data and python packages"
   ]
  },
  {
   "cell_type": "markdown",
   "metadata": {},
   "source": [
    "<a id='1.1'></a>\n",
    "## 2.1. Loading the python packages"
   ]
  },
  {
   "cell_type": "code",
   "execution_count": 81,
   "metadata": {
    "_cell_guid": "5d8fee34-f454-2642-8b06-ed719f0317e1"
   },
   "outputs": [],
   "source": [
    "# Load libraries\n",
    "import numpy as np\n",
    "import pandas as pd\n",
    "import xlrd\n",
    "import matplotlib.pyplot as plt\n",
    "from pandas import read_csv, set_option\n",
    "from pandas.plotting import scatter_matrix\n",
    "import seaborn as sns\n",
    "from sklearn.preprocessing import StandardScaler\n",
    "from sklearn.model_selection import train_test_split, KFold, cross_val_score, GridSearchCV\n",
    "from sklearn.linear_model import LogisticRegression\n",
    "from sklearn.tree import DecisionTreeClassifier\n",
    "from sklearn.neighbors import KNeighborsClassifier\n",
    "from sklearn.discriminant_analysis import LinearDiscriminantAnalysis\n",
    "from sklearn.naive_bayes import GaussianNB\n",
    "from sklearn.svm import SVC\n",
    "from sklearn.neural_network import MLPClassifier\n",
    "from sklearn.pipeline import Pipeline\n",
    "from sklearn.ensemble import AdaBoostClassifier, GradientBoostingClassifier, RandomForestClassifier, ExtraTreesClassifier\n",
    "from sklearn.metrics import classification_report, confusion_matrix, accuracy_score\n",
    "\n",
    "#Libraries for Deep Learning Models\n",
    "from keras.models import Sequential\n",
    "from keras.layers import Dense\n",
    "from keras.wrappers.scikit_learn import KerasClassifier\n",
    "from keras.optimizers import SGD"
   ]
  },
  {
   "cell_type": "markdown",
   "metadata": {},
   "source": [
    "<a id='1.2'></a>\n",
    "## 2.2. Loading the Data"
   ]
  },
  {
   "cell_type": "code",
   "execution_count": 82,
   "metadata": {
    "_cell_guid": "787e35f7-bf9e-0969-8d13-a54fa87f3519"
   },
   "outputs": [],
   "source": [
    "wb = xlrd.open_workbook('SCOOP-Rating-Performance.xls')"
   ]
  },
  {
   "cell_type": "code",
   "execution_count": 83,
   "metadata": {},
   "outputs": [],
   "source": [
    "#Diable the warnings\n",
    "import warnings\n",
    "warnings.filterwarnings('ignore')"
   ]
  },
  {
   "cell_type": "code",
   "execution_count": 84,
   "metadata": {},
   "outputs": [
    {
     "data": {
      "text/plain": [
       "3478"
      ]
     },
     "execution_count": 84,
     "metadata": {},
     "output_type": "execute_result"
    }
   ],
   "source": [
    "ws = wb.sheet_by_index(0)\n",
    "ws.nrows"
   ]
  },
  {
   "cell_type": "markdown",
   "metadata": {},
   "source": [
    "<a id='2'></a>\n",
    "# 3. Exploratory Data Analysis\n"
   ]
  },
  {
   "cell_type": "markdown",
   "metadata": {},
   "source": [
    "<a id='2.1'></a>\n",
    "## 3.1 Descriptive Statistics\n"
   ]
  },
  {
   "cell_type": "markdown",
   "metadata": {},
   "source": [
    "Combining the data fromt the spreadsheet and creating a dataframe"
   ]
  },
  {
   "cell_type": "code",
   "execution_count": 85,
   "metadata": {},
   "outputs": [],
   "source": [
    "ipo_list = []\n",
    "for i in range(36,ws.nrows):\n",
    "    if isinstance(ws.row(i)[0].value, float):\n",
    "        ipo_list.append([x.value for x in ws.row(i)])        \n",
    "dataset = pd.DataFrame(ipo_list)        "
   ]
  },
  {
   "cell_type": "markdown",
   "metadata": {},
   "source": [
    "Assigning the column names to the data"
   ]
  },
  {
   "cell_type": "code",
   "execution_count": 86,
   "metadata": {
    "scrolled": true
   },
   "outputs": [
    {
     "data": {
      "text/html": [
       "<div>\n",
       "<style scoped>\n",
       "    .dataframe tbody tr th:only-of-type {\n",
       "        vertical-align: middle;\n",
       "    }\n",
       "\n",
       "    .dataframe tbody tr th {\n",
       "        vertical-align: top;\n",
       "    }\n",
       "\n",
       "    .dataframe thead th {\n",
       "        text-align: right;\n",
       "    }\n",
       "</style>\n",
       "<table border=\"1\" class=\"dataframe\">\n",
       "  <thead>\n",
       "    <tr style=\"text-align: right;\">\n",
       "      <th></th>\n",
       "      <th>Date</th>\n",
       "      <th>Company</th>\n",
       "      <th>Ticker</th>\n",
       "      <th>Managers</th>\n",
       "      <th>Offer Price</th>\n",
       "      <th>Opening Price</th>\n",
       "      <th>1st Day Close</th>\n",
       "      <th>1st Day % Chg</th>\n",
       "      <th>$ Chg Open</th>\n",
       "      <th>$ Chg Close</th>\n",
       "      <th>Star Rating</th>\n",
       "      <th>Performed</th>\n",
       "    </tr>\n",
       "  </thead>\n",
       "  <tbody>\n",
       "    <tr>\n",
       "      <th>0</th>\n",
       "      <td>43473.0</td>\n",
       "      <td>MMTEC</td>\n",
       "      <td>MTC</td>\n",
       "      <td>WestPark Capital</td>\n",
       "      <td>4.0</td>\n",
       "      <td>5.91</td>\n",
       "      <td>7.55</td>\n",
       "      <td>0.8875</td>\n",
       "      <td>1.91</td>\n",
       "      <td>3.55</td>\n",
       "      <td>N/C</td>\n",
       "      <td></td>\n",
       "    </tr>\n",
       "    <tr>\n",
       "      <th>1</th>\n",
       "      <td>43494.0</td>\n",
       "      <td>Andina Acquisition Corp. III</td>\n",
       "      <td>ANDAU</td>\n",
       "      <td>Cowen/ Craig-Hallum Capital Group</td>\n",
       "      <td>10.0</td>\n",
       "      <td>10.00</td>\n",
       "      <td>10.01</td>\n",
       "      <td>0.001</td>\n",
       "      <td>0.00</td>\n",
       "      <td>0.01</td>\n",
       "      <td>1</td>\n",
       "      <td></td>\n",
       "    </tr>\n",
       "    <tr>\n",
       "      <th>2</th>\n",
       "      <td>43495.0</td>\n",
       "      <td>PIMCO Energy &amp; Tactical Credit Opportunities Fund</td>\n",
       "      <td>NRGX</td>\n",
       "      <td>UBS Investment Bank/ BofA Merrill Lynch/ Morga...</td>\n",
       "      <td>20.0</td>\n",
       "      <td>20.00</td>\n",
       "      <td>20.20</td>\n",
       "      <td>0.01</td>\n",
       "      <td>0.00</td>\n",
       "      <td>0.20</td>\n",
       "      <td>1</td>\n",
       "      <td></td>\n",
       "    </tr>\n",
       "    <tr>\n",
       "      <th>3</th>\n",
       "      <td>43496.0</td>\n",
       "      <td>New Fortress Energy</td>\n",
       "      <td>NFE</td>\n",
       "      <td>Morgan Stanley/ Barclays</td>\n",
       "      <td>14.0</td>\n",
       "      <td>13.25</td>\n",
       "      <td>13.07</td>\n",
       "      <td>-0.0664286</td>\n",
       "      <td>-0.75</td>\n",
       "      <td>-0.93</td>\n",
       "      <td>1</td>\n",
       "      <td></td>\n",
       "    </tr>\n",
       "    <tr>\n",
       "      <th>4</th>\n",
       "      <td>43496.0</td>\n",
       "      <td>Pivotal Acquisition</td>\n",
       "      <td>PVT.U</td>\n",
       "      <td>Cantor</td>\n",
       "      <td>10.0</td>\n",
       "      <td>10.05</td>\n",
       "      <td>10.10</td>\n",
       "      <td>0.01</td>\n",
       "      <td>0.05</td>\n",
       "      <td>0.10</td>\n",
       "      <td>1</td>\n",
       "      <td></td>\n",
       "    </tr>\n",
       "  </tbody>\n",
       "</table>\n",
       "</div>"
      ],
      "text/plain": [
       "      Date                                            Company Ticker  \\\n",
       "0  43473.0                                             MMTEC     MTC   \n",
       "1  43494.0                      Andina Acquisition Corp. III   ANDAU   \n",
       "2  43495.0  PIMCO Energy & Tactical Credit Opportunities Fund   NRGX   \n",
       "3  43496.0                               New Fortress Energy     NFE   \n",
       "4  43496.0                               Pivotal Acquisition   PVT.U   \n",
       "\n",
       "                                            Managers  Offer Price  \\\n",
       "0                                   WestPark Capital          4.0   \n",
       "1                  Cowen/ Craig-Hallum Capital Group         10.0   \n",
       "2  UBS Investment Bank/ BofA Merrill Lynch/ Morga...         20.0   \n",
       "3                           Morgan Stanley/ Barclays         14.0   \n",
       "4                                             Cantor         10.0   \n",
       "\n",
       "   Opening Price  1st Day Close 1st Day % Chg  $ Chg Open  $ Chg Close  \\\n",
       "0           5.91           7.55        0.8875        1.91         3.55   \n",
       "1          10.00          10.01         0.001        0.00         0.01   \n",
       "2          20.00          20.20          0.01        0.00         0.20   \n",
       "3          13.25          13.07    -0.0664286       -0.75        -0.93   \n",
       "4          10.05          10.10          0.01        0.05         0.10   \n",
       "\n",
       "  Star Rating Performed  \n",
       "0         N/C            \n",
       "1           1            \n",
       "2           1            \n",
       "3           1            \n",
       "4           1            "
      ]
     },
     "execution_count": 86,
     "metadata": {},
     "output_type": "execute_result"
    }
   ],
   "source": [
    "dataset.columns = ['Date', 'Company', 'Ticker', 'Managers', \\\n",
    "              'Offer Price', 'Opening Price', '1st Day Close',\\\n",
    "              '1st Day % Chg', '$ Chg Open', '$ Chg Close',\\\n",
    "              'Star Rating', 'Performed']\n",
    "dataset.head()"
   ]
  },
  {
   "cell_type": "markdown",
   "metadata": {},
   "source": [
    "Adding the dates in the right format"
   ]
  },
  {
   "cell_type": "code",
   "execution_count": 87,
   "metadata": {},
   "outputs": [],
   "source": [
    "def to_date(x):\n",
    "    return xlrd.xldate.xldate_as_datetime(x, wb.datemode)"
   ]
  },
  {
   "cell_type": "code",
   "execution_count": 88,
   "metadata": {},
   "outputs": [],
   "source": [
    "dataset['Date'] = dataset['Date'].apply(to_date)\n",
    "dataset['Year'], dataset['Month'], dataset['Day'], dataset['Day of Week'] = \\\n",
    "dataset['Date'].dt.year, dataset['Date'].dt.month, dataset['Date'].dt.day, dataset['Date'].dt.weekday"
   ]
  },
  {
   "cell_type": "code",
   "execution_count": 89,
   "metadata": {},
   "outputs": [
    {
     "data": {
      "text/html": [
       "<div>\n",
       "<style scoped>\n",
       "    .dataframe tbody tr th:only-of-type {\n",
       "        vertical-align: middle;\n",
       "    }\n",
       "\n",
       "    .dataframe tbody tr th {\n",
       "        vertical-align: top;\n",
       "    }\n",
       "\n",
       "    .dataframe thead th {\n",
       "        text-align: right;\n",
       "    }\n",
       "</style>\n",
       "<table border=\"1\" class=\"dataframe\">\n",
       "  <thead>\n",
       "    <tr style=\"text-align: right;\">\n",
       "      <th></th>\n",
       "      <th>Offer Price</th>\n",
       "      <th>Opening Price</th>\n",
       "      <th>1st Day Close</th>\n",
       "      <th>$ Chg Open</th>\n",
       "      <th>$ Chg Close</th>\n",
       "      <th>Year</th>\n",
       "      <th>Month</th>\n",
       "      <th>Day</th>\n",
       "      <th>Day of Week</th>\n",
       "    </tr>\n",
       "  </thead>\n",
       "  <tbody>\n",
       "    <tr>\n",
       "      <th>count</th>\n",
       "      <td>3342.000000</td>\n",
       "      <td>3342.000000</td>\n",
       "      <td>3342.000000</td>\n",
       "      <td>3342.000000</td>\n",
       "      <td>3342.000000</td>\n",
       "      <td>3342.000000</td>\n",
       "      <td>3342.000000</td>\n",
       "      <td>3342.000000</td>\n",
       "      <td>3342.000000</td>\n",
       "    </tr>\n",
       "    <tr>\n",
       "      <th>mean</th>\n",
       "      <td>14.505524</td>\n",
       "      <td>16.535642</td>\n",
       "      <td>16.796206</td>\n",
       "      <td>2.031953</td>\n",
       "      <td>2.295201</td>\n",
       "      <td>2009.776182</td>\n",
       "      <td>6.909336</td>\n",
       "      <td>15.936565</td>\n",
       "      <td>2.578396</td>\n",
       "    </tr>\n",
       "    <tr>\n",
       "      <th>std</th>\n",
       "      <td>6.402908</td>\n",
       "      <td>9.206517</td>\n",
       "      <td>9.762947</td>\n",
       "      <td>4.531645</td>\n",
       "      <td>5.461207</td>\n",
       "      <td>5.754963</td>\n",
       "      <td>3.240418</td>\n",
       "      <td>8.467777</td>\n",
       "      <td>1.134077</td>\n",
       "    </tr>\n",
       "    <tr>\n",
       "      <th>min</th>\n",
       "      <td>0.000000</td>\n",
       "      <td>0.650000</td>\n",
       "      <td>0.650000</td>\n",
       "      <td>-6.850000</td>\n",
       "      <td>-6.340000</td>\n",
       "      <td>2000.000000</td>\n",
       "      <td>1.000000</td>\n",
       "      <td>1.000000</td>\n",
       "      <td>0.000000</td>\n",
       "    </tr>\n",
       "    <tr>\n",
       "      <th>25%</th>\n",
       "      <td>10.000000</td>\n",
       "      <td>10.060000</td>\n",
       "      <td>10.062500</td>\n",
       "      <td>0.000000</td>\n",
       "      <td>0.000000</td>\n",
       "      <td>2005.000000</td>\n",
       "      <td>4.000000</td>\n",
       "      <td>9.000000</td>\n",
       "      <td>2.000000</td>\n",
       "    </tr>\n",
       "    <tr>\n",
       "      <th>50%</th>\n",
       "      <td>14.000000</td>\n",
       "      <td>15.000000</td>\n",
       "      <td>15.000000</td>\n",
       "      <td>0.500000</td>\n",
       "      <td>0.500000</td>\n",
       "      <td>2010.000000</td>\n",
       "      <td>7.000000</td>\n",
       "      <td>16.000000</td>\n",
       "      <td>3.000000</td>\n",
       "    </tr>\n",
       "    <tr>\n",
       "      <th>75%</th>\n",
       "      <td>18.000000</td>\n",
       "      <td>20.157500</td>\n",
       "      <td>20.550000</td>\n",
       "      <td>2.500000</td>\n",
       "      <td>2.965000</td>\n",
       "      <td>2014.000000</td>\n",
       "      <td>10.000000</td>\n",
       "      <td>23.000000</td>\n",
       "      <td>3.000000</td>\n",
       "    </tr>\n",
       "    <tr>\n",
       "      <th>max</th>\n",
       "      <td>91.000000</td>\n",
       "      <td>120.000000</td>\n",
       "      <td>132.990000</td>\n",
       "      <td>65.000000</td>\n",
       "      <td>95.540000</td>\n",
       "      <td>2019.000000</td>\n",
       "      <td>12.000000</td>\n",
       "      <td>31.000000</td>\n",
       "      <td>6.000000</td>\n",
       "    </tr>\n",
       "  </tbody>\n",
       "</table>\n",
       "</div>"
      ],
      "text/plain": [
       "       Offer Price  Opening Price  1st Day Close   $ Chg Open  $ Chg Close  \\\n",
       "count  3342.000000    3342.000000    3342.000000  3342.000000  3342.000000   \n",
       "mean     14.505524      16.535642      16.796206     2.031953     2.295201   \n",
       "std       6.402908       9.206517       9.762947     4.531645     5.461207   \n",
       "min       0.000000       0.650000       0.650000    -6.850000    -6.340000   \n",
       "25%      10.000000      10.060000      10.062500     0.000000     0.000000   \n",
       "50%      14.000000      15.000000      15.000000     0.500000     0.500000   \n",
       "75%      18.000000      20.157500      20.550000     2.500000     2.965000   \n",
       "max      91.000000     120.000000     132.990000    65.000000    95.540000   \n",
       "\n",
       "              Year        Month          Day  Day of Week  \n",
       "count  3342.000000  3342.000000  3342.000000  3342.000000  \n",
       "mean   2009.776182     6.909336    15.936565     2.578396  \n",
       "std       5.754963     3.240418     8.467777     1.134077  \n",
       "min    2000.000000     1.000000     1.000000     0.000000  \n",
       "25%    2005.000000     4.000000     9.000000     2.000000  \n",
       "50%    2010.000000     7.000000    16.000000     3.000000  \n",
       "75%    2014.000000    10.000000    23.000000     3.000000  \n",
       "max    2019.000000    12.000000    31.000000     6.000000  "
      ]
     },
     "execution_count": 89,
     "metadata": {},
     "output_type": "execute_result"
    }
   ],
   "source": [
    "dataset.describe()"
   ]
  },
  {
   "cell_type": "code",
   "execution_count": 90,
   "metadata": {},
   "outputs": [
    {
     "data": {
      "text/plain": [
       "Date             datetime64[ns]\n",
       "Company                  object\n",
       "Ticker                   object\n",
       "Managers                 object\n",
       "Offer Price             float64\n",
       "Opening Price           float64\n",
       "1st Day Close           float64\n",
       "1st Day % Chg            object\n",
       "$ Chg Open              float64\n",
       "$ Chg Close             float64\n",
       "Star Rating              object\n",
       "Performed                object\n",
       "Year                      int64\n",
       "Month                     int64\n",
       "Day                       int64\n",
       "Day of Week               int64\n",
       "dtype: object"
      ]
     },
     "execution_count": 90,
     "metadata": {},
     "output_type": "execute_result"
    }
   ],
   "source": [
    "dataset.dtypes"
   ]
  },
  {
   "cell_type": "code",
   "execution_count": 91,
   "metadata": {},
   "outputs": [
    {
     "data": {
      "text/plain": [
       "array(['N/C', 1.0, 2.0, 3.0, 4.0, 5.0], dtype=object)"
      ]
     },
     "execution_count": 91,
     "metadata": {},
     "output_type": "execute_result"
    }
   ],
   "source": [
    "dataset['Star Rating'].unique()"
   ]
  },
  {
   "cell_type": "code",
   "execution_count": 92,
   "metadata": {},
   "outputs": [
    {
     "data": {
      "text/plain": [
       "array(['', 'Missed', 'No Call'], dtype=object)"
      ]
     },
     "execution_count": 92,
     "metadata": {},
     "output_type": "execute_result"
    }
   ],
   "source": [
    "dataset['Performed'].unique()"
   ]
  },
  {
   "cell_type": "markdown",
   "metadata": {},
   "source": [
    "<a id='2.2'></a>\n",
    "## 3.2. Data Visualization"
   ]
  },
  {
   "cell_type": "code",
   "execution_count": 93,
   "metadata": {},
   "outputs": [
    {
     "data": {
      "text/plain": [
       "<matplotlib.axes._subplots.AxesSubplot at 0x1f83058be10>"
      ]
     },
     "execution_count": 93,
     "metadata": {},
     "output_type": "execute_result"
    },
    {
     "data": {
      "image/png": "[encoded data removed]",
      "text/plain": [
       "<Figure size 1080x1080 with 2 Axes>"
      ]
     },
     "metadata": {
      "needs_background": "light"
     },
     "output_type": "display_data"
    }
   ],
   "source": [
    "# correlation\n",
    "correlation = dataset.corr()\n",
    "plt.figure(figsize=(15,15))\n",
    "plt.title('Correlation Matrix')\n",
    "sns.heatmap(correlation, vmax=1, square=True,annot=True,cmap='cubehelix')"
   ]
  },
  {
   "cell_type": "markdown",
   "metadata": {},
   "source": [
    "IPO Count by Year"
   ]
  },
  {
   "cell_type": "code",
   "execution_count": 94,
   "metadata": {},
   "outputs": [
    {
     "data": {
      "image/png": "[encoded data removed]",
      "text/plain": [
       "<Figure size 576x432 with 1 Axes>"
      ]
     },
     "metadata": {
      "needs_background": "light"
     },
     "output_type": "display_data"
    }
   ],
   "source": [
    "by_year_cnt = dataset.groupby('Year')[['Ticker']].count()\n",
    "fig, ax = plt.subplots(figsize=(8,6))\n",
    "by_year_cnt.plot(kind='bar', ax=ax, color='crimson')\n",
    "ax.legend(['Ticker Count'])\n",
    "ax.set_title('IPO Count by Year', fontdict={'size': 18}, y=1.02);"
   ]
  },
  {
   "cell_type": "code",
   "execution_count": 95,
   "metadata": {},
   "outputs": [],
   "source": [
    "#Cleaning the dataset and setting the datatype of the 1st day change to float\n",
    "dataset[dataset['Offer Price'] < 5].index\n",
    "dataset.drop(dataset[dataset['Offer Price'] < 5].index, inplace=True)\n",
    "dataset.reset_index(drop=True, inplace=True)\n",
    "dataset['1st Day % Chg'] = dataset['1st Day % Chg'].astype(float)"
   ]
  },
  {
   "cell_type": "code",
   "execution_count": 96,
   "metadata": {},
   "outputs": [
    {
     "data": {
      "image/png": "[encoded data removed]",
      "text/plain": [
       "<Figure size 576x432 with 1 Axes>"
      ]
     },
     "metadata": {
      "needs_background": "light"
     },
     "output_type": "display_data"
    }
   ],
   "source": [
    "summary_by_year = dataset.groupby('Year')['1st Day % Chg'].describe()\n",
    "fig, ax = plt.subplots(figsize=(8,6))\n",
    "summary_by_year['mean'].plot(kind='bar', ax=ax)\n",
    "ax.set_title('Mean First Day Percentage Change by Year', fontdict={'size': 18}, y=1.02);"
   ]
  },
  {
   "cell_type": "markdown",
   "metadata": {},
   "source": [
    "<a id='3'></a>\n",
    "# 4. Feature Engineering and Data Preparation"
   ]
  },
  {
   "cell_type": "markdown",
   "metadata": {},
   "source": [
    "<a id='3.1'></a>\n",
    "## 4.1. Feature Engineering- Creating new variables"
   ]
  },
  {
   "cell_type": "markdown",
   "metadata": {},
   "source": [
    "We begin by the constructing a dataset that contains the predictors which will be used to make the predictions, and the output variable."
   ]
  },
  {
   "cell_type": "code",
   "execution_count": 97,
   "metadata": {},
   "outputs": [],
   "source": [
    "dataset['1st Day Open to Close % Chg'] = ((dataset['1st Day Close'] - dataset['Opening Price'])/dataset['Opening Price'])"
   ]
  },
  {
   "cell_type": "code",
   "execution_count": 98,
   "metadata": {},
   "outputs": [],
   "source": [
    "dataset['1st Day Open to Close $ Chg'] = (dataset['1st Day Close'] - dataset['Opening Price'])"
   ]
  },
  {
   "cell_type": "code",
   "execution_count": 99,
   "metadata": {},
   "outputs": [],
   "source": [
    "dataset['Opening Gap % Chg'] = (dataset['Opening Price'] - dataset['Offer Price'])/dataset['Offer Price']"
   ]
  },
  {
   "cell_type": "code",
   "execution_count": 100,
   "metadata": {},
   "outputs": [],
   "source": [
    "dataset['Opening Gap $ Chg'] = (dataset['Opening Price'] - dataset['Offer Price'])"
   ]
  },
  {
   "cell_type": "code",
   "execution_count": 101,
   "metadata": {},
   "outputs": [],
   "source": [
    "def get_mgr_count(x):\n",
    "    return len(x.split('/'))"
   ]
  },
  {
   "cell_type": "code",
   "execution_count": 102,
   "metadata": {},
   "outputs": [],
   "source": [
    "dataset['Mgr Count'] = dataset['Managers'].apply(get_mgr_count)"
   ]
  },
  {
   "cell_type": "code",
   "execution_count": 103,
   "metadata": {},
   "outputs": [],
   "source": [
    "dataset['Lead Mgr'] = dataset['Managers'].apply(lambda x: x.split('/')[0])"
   ]
  },
  {
   "cell_type": "markdown",
   "metadata": {},
   "source": [
    "<a id='3.2'></a>\n",
    "## 4.2. Preparing the data for classification"
   ]
  },
  {
   "cell_type": "code",
   "execution_count": 104,
   "metadata": {},
   "outputs": [],
   "source": [
    "from patsy import dmatrix"
   ]
  },
  {
   "cell_type": "code",
   "execution_count": 105,
   "metadata": {},
   "outputs": [],
   "source": [
    "Y = dataset['1st Day Open to Close % Chg'].apply(lambda x: 1 if x > .025 else 0)"
   ]
  },
  {
   "cell_type": "code",
   "execution_count": 106,
   "metadata": {},
   "outputs": [],
   "source": [
    "X = dmatrix(\"Q('Opening Gap % Chg') + C(Q('Month'), Treatment) + C(Q('Day of Week'), Treatment)\\\n",
    "+ Q('Mgr Count') + Q('Lead Mgr') + Q('Offer Price') + C(Q('Star Rating'), Treatment)\", dataset, return_type=\"dataframe\")"
   ]
  },
  {
   "cell_type": "code",
   "execution_count": 107,
   "metadata": {},
   "outputs": [
    {
     "data": {
      "text/html": [
       "<div>\n",
       "<style scoped>\n",
       "    .dataframe tbody tr th:only-of-type {\n",
       "        vertical-align: middle;\n",
       "    }\n",
       "\n",
       "    .dataframe tbody tr th {\n",
       "        vertical-align: top;\n",
       "    }\n",
       "\n",
       "    .dataframe thead th {\n",
       "        text-align: right;\n",
       "    }\n",
       "</style>\n",
       "<table border=\"1\" class=\"dataframe\">\n",
       "  <thead>\n",
       "    <tr style=\"text-align: right;\">\n",
       "      <th></th>\n",
       "      <th>Intercept</th>\n",
       "      <th>C(Q('Month'), Treatment)[T.2]</th>\n",
       "      <th>C(Q('Month'), Treatment)[T.3]</th>\n",
       "      <th>C(Q('Month'), Treatment)[T.4]</th>\n",
       "      <th>C(Q('Month'), Treatment)[T.5]</th>\n",
       "      <th>C(Q('Month'), Treatment)[T.6]</th>\n",
       "      <th>C(Q('Month'), Treatment)[T.7]</th>\n",
       "      <th>C(Q('Month'), Treatment)[T.8]</th>\n",
       "      <th>C(Q('Month'), Treatment)[T.9]</th>\n",
       "      <th>C(Q('Month'), Treatment)[T.10]</th>\n",
       "      <th>...</th>\n",
       "      <th>Q('Lead Mgr')[T.​Credit Suisse]</th>\n",
       "      <th>Q('Lead Mgr')[T.​Jefferies]</th>\n",
       "      <th>C(Q('Star Rating'), Treatment)[T.2.0]</th>\n",
       "      <th>C(Q('Star Rating'), Treatment)[T.3.0]</th>\n",
       "      <th>C(Q('Star Rating'), Treatment)[T.4.0]</th>\n",
       "      <th>C(Q('Star Rating'), Treatment)[T.5.0]</th>\n",
       "      <th>C(Q('Star Rating'), Treatment)[T.N/C]</th>\n",
       "      <th>Q('Opening Gap % Chg')</th>\n",
       "      <th>Q('Mgr Count')</th>\n",
       "      <th>Q('Offer Price')</th>\n",
       "    </tr>\n",
       "  </thead>\n",
       "  <tbody>\n",
       "    <tr>\n",
       "      <th>0</th>\n",
       "      <td>1.0</td>\n",
       "      <td>0.0</td>\n",
       "      <td>0.0</td>\n",
       "      <td>0.0</td>\n",
       "      <td>0.0</td>\n",
       "      <td>0.0</td>\n",
       "      <td>0.0</td>\n",
       "      <td>0.0</td>\n",
       "      <td>0.0</td>\n",
       "      <td>0.0</td>\n",
       "      <td>...</td>\n",
       "      <td>0.0</td>\n",
       "      <td>0.0</td>\n",
       "      <td>0.0</td>\n",
       "      <td>0.0</td>\n",
       "      <td>0.0</td>\n",
       "      <td>0.0</td>\n",
       "      <td>0.0</td>\n",
       "      <td>0.000000</td>\n",
       "      <td>2.0</td>\n",
       "      <td>10.0</td>\n",
       "    </tr>\n",
       "    <tr>\n",
       "      <th>1</th>\n",
       "      <td>1.0</td>\n",
       "      <td>0.0</td>\n",
       "      <td>0.0</td>\n",
       "      <td>0.0</td>\n",
       "      <td>0.0</td>\n",
       "      <td>0.0</td>\n",
       "      <td>0.0</td>\n",
       "      <td>0.0</td>\n",
       "      <td>0.0</td>\n",
       "      <td>0.0</td>\n",
       "      <td>...</td>\n",
       "      <td>0.0</td>\n",
       "      <td>0.0</td>\n",
       "      <td>0.0</td>\n",
       "      <td>0.0</td>\n",
       "      <td>0.0</td>\n",
       "      <td>0.0</td>\n",
       "      <td>0.0</td>\n",
       "      <td>0.000000</td>\n",
       "      <td>6.0</td>\n",
       "      <td>20.0</td>\n",
       "    </tr>\n",
       "    <tr>\n",
       "      <th>2</th>\n",
       "      <td>1.0</td>\n",
       "      <td>0.0</td>\n",
       "      <td>0.0</td>\n",
       "      <td>0.0</td>\n",
       "      <td>0.0</td>\n",
       "      <td>0.0</td>\n",
       "      <td>0.0</td>\n",
       "      <td>0.0</td>\n",
       "      <td>0.0</td>\n",
       "      <td>0.0</td>\n",
       "      <td>...</td>\n",
       "      <td>0.0</td>\n",
       "      <td>0.0</td>\n",
       "      <td>0.0</td>\n",
       "      <td>0.0</td>\n",
       "      <td>0.0</td>\n",
       "      <td>0.0</td>\n",
       "      <td>0.0</td>\n",
       "      <td>-0.053571</td>\n",
       "      <td>2.0</td>\n",
       "      <td>14.0</td>\n",
       "    </tr>\n",
       "    <tr>\n",
       "      <th>3</th>\n",
       "      <td>1.0</td>\n",
       "      <td>0.0</td>\n",
       "      <td>0.0</td>\n",
       "      <td>0.0</td>\n",
       "      <td>0.0</td>\n",
       "      <td>0.0</td>\n",
       "      <td>0.0</td>\n",
       "      <td>0.0</td>\n",
       "      <td>0.0</td>\n",
       "      <td>0.0</td>\n",
       "      <td>...</td>\n",
       "      <td>0.0</td>\n",
       "      <td>0.0</td>\n",
       "      <td>0.0</td>\n",
       "      <td>0.0</td>\n",
       "      <td>0.0</td>\n",
       "      <td>0.0</td>\n",
       "      <td>0.0</td>\n",
       "      <td>0.005000</td>\n",
       "      <td>1.0</td>\n",
       "      <td>10.0</td>\n",
       "    </tr>\n",
       "    <tr>\n",
       "      <th>4</th>\n",
       "      <td>1.0</td>\n",
       "      <td>1.0</td>\n",
       "      <td>0.0</td>\n",
       "      <td>0.0</td>\n",
       "      <td>0.0</td>\n",
       "      <td>0.0</td>\n",
       "      <td>0.0</td>\n",
       "      <td>0.0</td>\n",
       "      <td>0.0</td>\n",
       "      <td>0.0</td>\n",
       "      <td>...</td>\n",
       "      <td>0.0</td>\n",
       "      <td>0.0</td>\n",
       "      <td>0.0</td>\n",
       "      <td>0.0</td>\n",
       "      <td>0.0</td>\n",
       "      <td>0.0</td>\n",
       "      <td>0.0</td>\n",
       "      <td>0.014000</td>\n",
       "      <td>3.0</td>\n",
       "      <td>10.0</td>\n",
       "    </tr>\n",
       "  </tbody>\n",
       "</table>\n",
       "<p>5 rows × 338 columns</p>\n",
       "</div>"
      ],
      "text/plain": [
       "   Intercept  C(Q('Month'), Treatment)[T.2]  C(Q('Month'), Treatment)[T.3]  \\\n",
       "0        1.0                            0.0                            0.0   \n",
       "1        1.0                            0.0                            0.0   \n",
       "2        1.0                            0.0                            0.0   \n",
       "3        1.0                            0.0                            0.0   \n",
       "4        1.0                            1.0                            0.0   \n",
       "\n",
       "   C(Q('Month'), Treatment)[T.4]  C(Q('Month'), Treatment)[T.5]  \\\n",
       "0                            0.0                            0.0   \n",
       "1                            0.0                            0.0   \n",
       "2                            0.0                            0.0   \n",
       "3                            0.0                            0.0   \n",
       "4                            0.0                            0.0   \n",
       "\n",
       "   C(Q('Month'), Treatment)[T.6]  C(Q('Month'), Treatment)[T.7]  \\\n",
       "0                            0.0                            0.0   \n",
       "1                            0.0                            0.0   \n",
       "2                            0.0                            0.0   \n",
       "3                            0.0                            0.0   \n",
       "4                            0.0                            0.0   \n",
       "\n",
       "   C(Q('Month'), Treatment)[T.8]  C(Q('Month'), Treatment)[T.9]  \\\n",
       "0                            0.0                            0.0   \n",
       "1                            0.0                            0.0   \n",
       "2                            0.0                            0.0   \n",
       "3                            0.0                            0.0   \n",
       "4                            0.0                            0.0   \n",
       "\n",
       "   C(Q('Month'), Treatment)[T.10]  ...  Q('Lead Mgr')[T.​Credit Suisse]  \\\n",
       "0                             0.0  ...                              0.0   \n",
       "1                             0.0  ...                              0.0   \n",
       "2                             0.0  ...                              0.0   \n",
       "3                             0.0  ...                              0.0   \n",
       "4                             0.0  ...                              0.0   \n",
       "\n",
       "   Q('Lead Mgr')[T.​Jefferies]  C(Q('Star Rating'), Treatment)[T.2.0]  \\\n",
       "0                          0.0                                    0.0   \n",
       "1                          0.0                                    0.0   \n",
       "2                          0.0                                    0.0   \n",
       "3                          0.0                                    0.0   \n",
       "4                          0.0                                    0.0   \n",
       "\n",
       "   C(Q('Star Rating'), Treatment)[T.3.0]  \\\n",
       "0                                    0.0   \n",
       "1                                    0.0   \n",
       "2                                    0.0   \n",
       "3                                    0.0   \n",
       "4                                    0.0   \n",
       "\n",
       "   C(Q('Star Rating'), Treatment)[T.4.0]  \\\n",
       "0                                    0.0   \n",
       "1                                    0.0   \n",
       "2                                    0.0   \n",
       "3                                    0.0   \n",
       "4                                    0.0   \n",
       "\n",
       "   C(Q('Star Rating'), Treatment)[T.5.0]  \\\n",
       "0                                    0.0   \n",
       "1                                    0.0   \n",
       "2                                    0.0   \n",
       "3                                    0.0   \n",
       "4                                    0.0   \n",
       "\n",
       "   C(Q('Star Rating'), Treatment)[T.N/C]  Q('Opening Gap % Chg')  \\\n",
       "0                                    0.0                0.000000   \n",
       "1                                    0.0                0.000000   \n",
       "2                                    0.0               -0.053571   \n",
       "3                                    0.0                0.005000   \n",
       "4                                    0.0                0.014000   \n",
       "\n",
       "   Q('Mgr Count')  Q('Offer Price')  \n",
       "0             2.0              10.0  \n",
       "1             6.0              20.0  \n",
       "2             2.0              14.0  \n",
       "3             1.0              10.0  \n",
       "4             3.0              10.0  \n",
       "\n",
       "[5 rows x 338 columns]"
      ]
     },
     "execution_count": 107,
     "metadata": {},
     "output_type": "execute_result"
    }
   ],
   "source": [
    "X.head()"
   ]
  },
  {
   "cell_type": "markdown",
   "metadata": {},
   "source": [
    "We can see that Patsy has reconfigured our categorical data into multiple columns while keeping our continuous data in a single column. This is called dummy coding. In this format, each month except one will get its own column. The same is true for each broker. For example, if the particular IPO instance (row) was in May, then May will have 1 in the May column while all the other month columns are 0 for this row. There are always n-1 feature columns for each categorical feature. The one that is excluded becomes the baseline that the others are compared against.\n",
    "\n",
    "Finally, Patsy also adds an intercept column. This is a column of 1s that is needed for regression models to function properly."
   ]
  },
  {
   "cell_type": "markdown",
   "metadata": {},
   "source": [
    "<a id='3.3'></a>\n",
    "## 4.3. Data Cleaning\n",
    "Check for the NAs in the rows, either drop them or fill them with the mean of the column"
   ]
  },
  {
   "cell_type": "code",
   "execution_count": 108,
   "metadata": {},
   "outputs": [
    {
     "name": "stdout",
     "output_type": "stream",
     "text": [
      "Null Values = False\n"
     ]
    }
   ],
   "source": [
    "#Checking for any null values and removing the null values'''\n",
    "print('Null Values =',dataset.isnull().values.any())"
   ]
  },
  {
   "cell_type": "markdown",
   "metadata": {},
   "source": [
    "Given that there are null values drop the rown contianing the null values."
   ]
  },
  {
   "cell_type": "markdown",
   "metadata": {},
   "source": [
    "<a id='4'></a>\n",
    "# 5. Evaluate Algorithms and Models"
   ]
  },
  {
   "cell_type": "markdown",
   "metadata": {},
   "source": [
    "<a id='4.1'></a>\n",
    "## 5.1. Train Test Split"
   ]
  },
  {
   "cell_type": "code",
   "execution_count": 109,
   "metadata": {},
   "outputs": [],
   "source": [
    "# split out validation dataset for the end\n",
    "scaler = StandardScaler().fit(X)\n",
    "StandardisedX = pd.DataFrame(scaler.fit_transform(X))\n",
    "validation_size = 0.4\n",
    "seed = 7\n",
    "X_train, X_validation, Y_train, Y_validation = train_test_split(StandardisedX, Y, test_size=validation_size, random_state=seed)"
   ]
  },
  {
   "cell_type": "markdown",
   "metadata": {},
   "source": [
    "<a id='4.2'></a>\n",
    "## 5.2. Test Options and Evaluation Metrics\n"
   ]
  },
  {
   "cell_type": "markdown",
   "metadata": {},
   "source": [
    "As it can be seem from the numbers above Credit Amount is the most important feature followed by duration."
   ]
  },
  {
   "cell_type": "code",
   "execution_count": 110,
   "metadata": {
    "_cell_guid": "5702bc31-06bf-8b6a-42de-366a6b3311a8"
   },
   "outputs": [],
   "source": [
    "# test options for classification\n",
    "num_folds = 10\n",
    "seed = 7\n",
    "#scoring = 'accuracy'\n",
    "#scoring = 'recall'\n",
    "#scoring = 'precision'\n",
    "#scoring ='neg_log_loss'\n",
    "scoring = 'roc_auc'"
   ]
  },
  {
   "cell_type": "markdown",
   "metadata": {},
   "source": [
    "<a id='4.3'></a>\n",
    "## 5.3. Compare Models and Algorithms"
   ]
  },
  {
   "cell_type": "markdown",
   "metadata": {},
   "source": [
    "<a id='4.3.1'></a>\n",
    "### 5.3.1. Common Models"
   ]
  },
  {
   "cell_type": "code",
   "execution_count": 111,
   "metadata": {
    "_cell_guid": "772802f7-f4e4-84ee-6377-6464ab2e5da4"
   },
   "outputs": [],
   "source": [
    "# spot check the algorithms\n",
    "models = []\n",
    "models.append(('LR', LogisticRegression()))\n",
    "models.append(('LDA', LinearDiscriminantAnalysis()))\n",
    "models.append(('KNN', KNeighborsClassifier()))\n",
    "models.append(('CART', DecisionTreeClassifier()))\n",
    "models.append(('NB', GaussianNB()))\n",
    "models.append(('SVM', SVC()))\n",
    "#Neural Network\n",
    "models.append(('NN', MLPClassifier()))\n",
    "#Ensable Models \n",
    "# Boosting methods\n",
    "models.append(('AB', AdaBoostClassifier()))\n",
    "models.append(('GBM', GradientBoostingClassifier()))\n",
    "# Bagging methods\n",
    "models.append(('RF', RandomForestClassifier()))\n",
    "models.append(('ET', ExtraTreesClassifier()))"
   ]
  },
  {
   "cell_type": "markdown",
   "metadata": {},
   "source": [
    "### K-folds cross validation"
   ]
  },
  {
   "cell_type": "code",
   "execution_count": 112,
   "metadata": {
    "_cell_guid": "a784ab4a-eb59-98cc-76cf-b55f382d057a"
   },
   "outputs": [
    {
     "name": "stdout",
     "output_type": "stream",
     "text": [
      "LR: 0.591384 (0.037379)\n",
      "LDA: 0.579942 (0.047953)\n",
      "KNN: 0.556307 (0.032865)\n",
      "CART: 0.508923 (0.036439)\n",
      "NB: 0.507340 (0.014633)\n",
      "SVM: 0.552194 (0.039060)\n",
      "NN: 0.572629 (0.025395)\n",
      "AB: 0.643856 (0.027125)\n",
      "GBM: 0.657710 (0.032858)\n",
      "RF: 0.615107 (0.034828)\n",
      "ET: 0.583227 (0.031793)\n"
     ]
    }
   ],
   "source": [
    "results = []\n",
    "names = []\n",
    "for name, model in models:\n",
    "    kfold = KFold(n_splits=num_folds, random_state=seed)\n",
    "    cv_results = cross_val_score(model, X_train, Y_train, cv=kfold, scoring=scoring)\n",
    "    results.append(cv_results)\n",
    "    names.append(name)\n",
    "    msg = \"%s: %f (%f)\" % (name, cv_results.mean(), cv_results.std())\n",
    "    print(msg)"
   ]
  },
  {
   "cell_type": "code",
   "execution_count": 113,
   "metadata": {},
   "outputs": [
    {
     "data": {
      "text/plain": [
       "GradientBoostingClassifier(criterion='friedman_mse', init=None,\n",
       "                           learning_rate=0.1, loss='deviance', max_depth=3,\n",
       "                           max_features=None, max_leaf_nodes=None,\n",
       "                           min_impurity_decrease=0.0, min_impurity_split=None,\n",
       "                           min_samples_leaf=1, min_samples_split=2,\n",
       "                           min_weight_fraction_leaf=0.0, n_estimators=20,\n",
       "                           n_iter_no_change=None, presort='auto',\n",
       "                           random_state=None, subsample=1.0, tol=0.0001,\n",
       "                           validation_fraction=0.1, verbose=0,\n",
       "                           warm_start=False)"
      ]
     },
     "execution_count": 113,
     "metadata": {},
     "output_type": "execute_result"
    }
   ],
   "source": [
    "# prepare model\n",
    "scaler = StandardScaler().fit(X_train)\n",
    "rescaledX = scaler.transform(X_train)\n",
    "#model = LogisticRegression() # rbf is default kernel\n",
    "#model = GaussianNB() # rbf is default kernel\n",
    "model = RandomForestClassifier(criterion = 'gini', max_depth = 200, n_estimators =  80)\n",
    "\n",
    "model = GradientBoostingClassifier(n_estimators=20, max_depth=3) # rbf is default kernel\n",
    "model.fit(X_train, Y_train)"
   ]
  },
  {
   "cell_type": "code",
   "execution_count": 114,
   "metadata": {},
   "outputs": [
    {
     "name": "stdout",
     "output_type": "stream",
     "text": [
      "0.6870286576168929\n",
      "[[907   7]\n",
      " [408   4]]\n",
      "              precision    recall  f1-score   support\n",
      "\n",
      "           0       0.69      0.99      0.81       914\n",
      "           1       0.36      0.01      0.02       412\n",
      "\n",
      "    accuracy                           0.69      1326\n",
      "   macro avg       0.53      0.50      0.42      1326\n",
      "weighted avg       0.59      0.69      0.57      1326\n",
      "\n"
     ]
    }
   ],
   "source": [
    "# estimate accuracy on validation set\n",
    "predictions = model.predict(X_validation)\n",
    "print(accuracy_score(Y_validation, predictions))\n",
    "print(confusion_matrix(Y_validation, predictions))\n",
    "print(classification_report(Y_validation, predictions))"
   ]
  },
  {
   "cell_type": "markdown",
   "metadata": {},
   "source": [
    "### Algorithm comparison"
   ]
  },
  {
   "cell_type": "code",
   "execution_count": 115,
   "metadata": {
    "_cell_guid": "67873e9d-bc9b-6963-f594-805f1efbfbb3"
   },
   "outputs": [
    {
     "data": {
      "image/png": "[encoded data removed]",
      "text/plain": [
       "<Figure size 1080x576 with 1 Axes>"
      ]
     },
     "metadata": {
      "needs_background": "light"
     },
     "output_type": "display_data"
    }
   ],
   "source": [
    "# compare algorithms\n",
    "fig = plt.figure()\n",
    "fig.suptitle('Algorithm Comparison')\n",
    "ax = fig.add_subplot(111)\n",
    "plt.boxplot(results)\n",
    "ax.set_xticklabels(names)\n",
    "fig.set_size_inches(15,8)\n",
    "plt.show()"
   ]
  },
  {
   "cell_type": "markdown",
   "metadata": {},
   "source": [
    "<a id='5'></a>\n",
    "# 6. Model Tuning and Grid Search"
   ]
  },
  {
   "cell_type": "markdown",
   "metadata": {
    "_cell_guid": "848ca488-b0fd-8e93-2e68-23d32c71d89c"
   },
   "source": [
    "Algorithm Tuning: Although some of the models show the most promising options. the grid search for Gradient Bossting Classifier is shown below."
   ]
  },
  {
   "cell_type": "code",
   "execution_count": 125,
   "metadata": {},
   "outputs": [
    {
     "name": "stdout",
     "output_type": "stream",
     "text": [
      "Best: 0.669078 using {'max_depth': 3, 'n_estimators': 20}\n",
      "#1 0.669078 (0.032247) with: {'max_depth': 3, 'n_estimators': 20}\n",
      "#2 0.652676 (0.031699) with: {'max_depth': 3, 'n_estimators': 180}\n",
      "#3 0.648421 (0.024101) with: {'max_depth': 5, 'n_estimators': 20}\n",
      "#4 0.642973 (0.021552) with: {'max_depth': 5, 'n_estimators': 180}\n"
     ]
    }
   ],
   "source": [
    "# Grid Search: GradientBoosting Tuning\n",
    "'''\n",
    "n_estimators : int (default=100)\n",
    "    The number of boosting stages to perform. \n",
    "    Gradient boosting is fairly robust to over-fitting so a large number usually results in better performance.\n",
    "max_depth : integer, optional (default=3)\n",
    "    maximum depth of the individual regression estimators. \n",
    "    The maximum depth limits the number of nodes in the tree. \n",
    "    Tune this parameter for best performance; the best value depends on the interaction of the input variables.\n",
    "\n",
    "''' \n",
    "n_estimators = [20,180]\n",
    "max_depth= [3,5]\n",
    "param_grid = dict(n_estimators=n_estimators, max_depth=max_depth)\n",
    "model = GradientBoostingClassifier()\n",
    "kfold = KFold(n_splits=num_folds, random_state=seed)\n",
    "grid = GridSearchCV(estimator=model, param_grid=param_grid, scoring=scoring, cv=kfold)\n",
    "grid_result = grid.fit(X_train, Y_train)\n",
    "\n",
    "#Print Results\n",
    "print(\"Best: %f using %s\" % (grid_result.best_score_, grid_result.best_params_))\n",
    "means = grid_result.cv_results_['mean_test_score']\n",
    "stds = grid_result.cv_results_['std_test_score']\n",
    "params = grid_result.cv_results_['params']\n",
    "ranks = grid_result.cv_results_['rank_test_score']\n",
    "for mean, stdev, param, rank in zip(means, stds, params, ranks):\n",
    "    print(\"#%d %f (%f) with: %r\" % (rank, mean, stdev, param))"
   ]
  },
  {
   "cell_type": "markdown",
   "metadata": {},
   "source": [
    "<a id='6'></a>\n",
    "# 7. Finalise the Model"
   ]
  },
  {
   "cell_type": "markdown",
   "metadata": {},
   "source": [
    "Looking at the details above GBM might be worthy of further study, but for now SVM shows a lot of promise as a low complexity and stable model for this problem.\n",
    "\n",
    "Finalize Model with best parameters found during tuning step."
   ]
  },
  {
   "cell_type": "markdown",
   "metadata": {},
   "source": [
    "<a id='6.1'></a>\n",
    "## 7.1. Results on the Test Dataset"
   ]
  },
  {
   "cell_type": "code",
   "execution_count": 126,
   "metadata": {},
   "outputs": [
    {
     "data": {
      "text/plain": [
       "GradientBoostingClassifier(criterion='friedman_mse', init=None,\n",
       "                           learning_rate=0.1, loss='deviance', max_depth=5,\n",
       "                           max_features=None, max_leaf_nodes=None,\n",
       "                           min_impurity_decrease=0.0, min_impurity_split=None,\n",
       "                           min_samples_leaf=1, min_samples_split=2,\n",
       "                           min_weight_fraction_leaf=0.0, n_estimators=20,\n",
       "                           n_iter_no_change=None, presort='auto',\n",
       "                           random_state=None, subsample=1.0, tol=0.0001,\n",
       "                           validation_fraction=0.1, verbose=0,\n",
       "                           warm_start=False)"
      ]
     },
     "execution_count": 126,
     "metadata": {},
     "output_type": "execute_result"
    }
   ],
   "source": [
    "# prepare model\n",
    "model = GradientBoostingClassifier(n_estimators=20, max_depth=5) # rbf is default kernel\n",
    "model.fit(X_train, Y_train)"
   ]
  },
  {
   "cell_type": "code",
   "execution_count": 127,
   "metadata": {
    "_cell_guid": "f9725666-3c21-69d1-ddf6-45e47d982444"
   },
   "outputs": [
    {
     "name": "stdout",
     "output_type": "stream",
     "text": [
      "0.6855203619909502\n",
      "[[884  30]\n",
      " [387  25]]\n",
      "              precision    recall  f1-score   support\n",
      "\n",
      "           0       0.70      0.97      0.81       914\n",
      "           1       0.45      0.06      0.11       412\n",
      "\n",
      "    accuracy                           0.69      1326\n",
      "   macro avg       0.58      0.51      0.46      1326\n",
      "weighted avg       0.62      0.69      0.59      1326\n",
      "\n"
     ]
    }
   ],
   "source": [
    "# estimate accuracy on validation set\n",
    "predictions = model.predict(X_validation)\n",
    "print(accuracy_score(Y_validation, predictions))\n",
    "print(confusion_matrix(Y_validation, predictions))\n",
    "print(classification_report(Y_validation, predictions))"
   ]
  },
  {
   "cell_type": "markdown",
   "metadata": {},
   "source": [
    "<a id='6.2'></a>\n",
    "## 7.2. Variable Intuition/Feature Importance\n",
    "Looking at the details above GBM might be worthy of further study.Let us look into the Feature Importance of the GBM model. "
   ]
  },
  {
   "cell_type": "code",
   "execution_count": 128,
   "metadata": {},
   "outputs": [
    {
     "data": {
      "image/png": "[encoded data removed]",
      "text/plain": [
       "<Figure size 432x288 with 1 Axes>"
      ]
     },
     "metadata": {
      "needs_background": "light"
     },
     "output_type": "display_data"
    }
   ],
   "source": [
    "feat_importances = pd.Series(model.feature_importances_, index=X.columns)\n",
    "feat_importances.nlargest(10).plot(kind='barh')\n",
    "plt.show()"
   ]
  },
  {
   "cell_type": "markdown",
   "metadata": {},
   "source": [
    "The output from this gives us a ranked list of feature importance along with error bars for each. Looking at the list, these rankings would seem to make sense with gap opening percentage and dollar change from opening leading the pack."
   ]
  },
  {
   "cell_type": "markdown",
   "metadata": {},
   "source": [
    "<a id='6.3'></a>\n",
    "## 7.3. Backtesting"
   ]
  },
  {
   "cell_type": "markdown",
   "metadata": {},
   "source": [
    "Bactesting to Check how much money can be gained or lost from the strategy."
   ]
  },
  {
   "cell_type": "code",
   "execution_count": 129,
   "metadata": {},
   "outputs": [],
   "source": [
    "pdf = pd.DataFrame({'Actual': Y_validation, 'predicted': predictions})\n",
    "\n",
    "pdf['correct'] = pdf.apply(lambda x: 1 if x['Actual'] == x['predicted'] else 0, axis=1)\n",
    "\n",
    "results = pd.merge(dataset[['1st Day Open to Close $ Chg']], pdf, left_index=True, right_index=True)"
   ]
  },
  {
   "cell_type": "code",
   "execution_count": 130,
   "metadata": {},
   "outputs": [
    {
     "data": {
      "text/plain": [
       "82.89625"
      ]
     },
     "execution_count": 130,
     "metadata": {},
     "output_type": "execute_result"
    }
   ],
   "source": [
    "# ipo buys\n",
    "results[results['predicted']==1]['1st Day Open to Close $ Chg'].count()\n",
    "\n",
    "# ipo buys that made money \n",
    "Profit = results[(results['Actual']==1)&(results['predicted']==1)]['1st Day Open to Close $ Chg'].sum()\n",
    "Profit"
   ]
  },
  {
   "cell_type": "code",
   "execution_count": 131,
   "metadata": {},
   "outputs": [
    {
     "data": {
      "text/plain": [
       "-27.775000000000002"
      ]
     },
     "execution_count": 131,
     "metadata": {},
     "output_type": "execute_result"
    }
   ],
   "source": [
    "# ipo buys that lost money\n",
    "Loss= results[(results['Actual']==0)&(results['predicted']==1)]['1st Day Open to Close $ Chg'].sum()\n",
    "Loss"
   ]
  },
  {
   "cell_type": "code",
   "execution_count": 132,
   "metadata": {},
   "outputs": [
    {
     "data": {
      "text/plain": [
       "55.12124999999999"
      ]
     },
     "execution_count": 132,
     "metadata": {},
     "output_type": "execute_result"
    }
   ],
   "source": [
    "#Total Profit\n",
    "NetProfit = Profit + Loss\n",
    "NetProfit"
   ]
  },
  {
   "cell_type": "markdown",
   "metadata": {},
   "source": [
    "So, looking at the output the strategy is profitable overall. Also, looking at the opportunity that was not explored"
   ]
  },
  {
   "cell_type": "code",
   "execution_count": 133,
   "metadata": {},
   "outputs": [
    {
     "data": {
      "text/plain": [
       "331.024875"
      ]
     },
     "execution_count": 133,
     "metadata": {},
     "output_type": "execute_result"
    }
   ],
   "source": [
    "# ipos not bought that would have made money\n",
    "ProfitLost= results[(results['Actual']==1)&(results['predicted']==0)]['1st Day Open to Close $ Chg'].sum()\n",
    "\n",
    "# ipos not bought that would have lost money\n",
    "LossAvoided= results[(results['Actual']==0)&(results['predicted']==0)]['1st Day Open to Close $ Chg'].sum()\n",
    "TotalProfitMissed=ProfitLost+LossAvoided\n",
    "TotalProfitMissed"
   ]
  },
  {
   "cell_type": "markdown",
   "metadata": {},
   "source": [
    "## Conclusion"
   ]
  },
  {
   "cell_type": "markdown",
   "metadata": {},
   "source": [
    "\n",
    "- Consideration of these factors is shown to impact the IPO market\n",
    "\n",
    "* Looking at the backtesting results, the overall strategy is profitable. \n",
    "* Feature Engineering leads to creation of new catergorical and intuitive features and increases the predictive power by creating features from raw data that help facilitate the modeling process. \n",
    "* The charts and data visualisation provide an intuition into the IPO market and price movement. \n",
    "\n",
    "\n"
   ]
  }
 ],
 "metadata": {
  "_change_revision": 206,
  "_is_fork": false,
  "kernelspec": {
   "display_name": "Python 3",
   "language": "python",
   "name": "python3"
  },
  "language_info": {
   "codemirror_mode": {
    "name": "ipython",
    "version": 3
   },
   "file_extension": ".py",
   "mimetype": "text/x-python",
   "name": "python",
   "nbconvert_exporter": "python",
   "pygments_lexer": "ipython3",
   "version": "3.7.3"
  }
 },
 "nbformat": 4,
 "nbformat_minor": 1
}
