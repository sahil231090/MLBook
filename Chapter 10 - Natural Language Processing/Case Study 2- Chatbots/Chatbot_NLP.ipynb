{
 "cells": [
  {
   "cell_type": "markdown",
   "metadata": {
    "_cell_guid": "83708667-4fdc-1563-7b3a-06b6575d2865"
   },
   "source": [
    "# Digital Assistant: chat-bots\n",
    "\n",
    "Chatbots are virtual assistants that help customers transact or solve problems. These automated programmes use NLP to interact with clients in natural language (by text or voice), and use machine learning algorithms to improve over time. Chatbots are being introduced by a range of financial services firms, often in their mobile apps or social media. While many are still in the trial phase, there is potential for growth as chatbots gain increasing usage and become more sophisticated. The current generation of chatbots in use by financial services firms is simple, generally providing balance information or alerts to custom ers, or answering simple questions. It is worth observing that the increasing usage of chatbots is correlated with the increased usage of messaging applications.\n",
    "\n",
    "We can define the chatbots into two categories, following are the two categories of chatbots:\n",
    "\n",
    "* **Rule-Based Approach** – In this approach, a bot is trained according to rules. Based on this a bot can answer simple queries but sometimes fails to answer complex queries.\n",
    "\n",
    "* **Self-Learning Approach** – These bots follow the machine learning approach which is rather more efficient and is further divided into two more categories.\n",
    "\n",
    "    * Retrieval-Based Models – In this approach, the bot retrieves the best response from a list of responses according to the user input.\n",
    "    \n",
    "    * Generative Models – These models often come up with answers than searching from a set of answers which makes them intelligent bots as well.\n",
    "    \n",
    "In this case study, we will touch upon both the approaches of the chatbot development. \n",
    "\n",
    "The focus of this case study are as follows:\n",
    "* Understand and build a chatbot\n",
    "* Understand the data preparation required for building a chatbot\n",
    "* Understand the python packages required for chatbot development."
   ]
  },
  {
   "cell_type": "markdown",
   "metadata": {},
   "source": [
    "## Content"
   ]
  },
  {
   "cell_type": "markdown",
   "metadata": {},
   "source": [
    "* [1. Problem Definition](#1)\n",
    "* [2. Getting Started - Load Libraries and Dataset](#2)\n",
    "    * [2.1. Load Libraries](#2.1) \n",
    "* [3. Training a default chatbot ](#3)  \n",
    "* [4. Data Preparation for customized chatbot](#4)\n",
    "* [5.Model Construction and Training](#5)        \n",
    "    * [5.1. Model Construction](#5.1)\n",
    "    * [5.2. Building Custom Logic Adapter](#5.2)\n",
    "    * [5.3. Training the model](#5.3)       \n",
    "* [6.Model Testing and Usage](#6)           "
   ]
  },
  {
   "cell_type": "markdown",
   "metadata": {},
   "source": [
    "<a id='1'></a>\n",
    "# 1. Problem Definition"
   ]
  },
  {
   "cell_type": "markdown",
   "metadata": {},
   "source": [
    "The problem statement is to build a chatbot that uses NLP to understand user inputs and intention and retrieve the financial ratio for the company user is looking for."
   ]
  },
  {
   "cell_type": "markdown",
   "metadata": {},
   "source": [
    "<a id='2'></a>\n",
    "# 2. Getting Started- Loading the data and python packages\n"
   ]
  },
  {
   "cell_type": "markdown",
   "metadata": {},
   "source": [
    "<a id='2.1'></a>\n",
    "## 2.1. Loading the python packages\n",
    "For this case study we will use 2 text based libraries. The first one is spacy and the other one is chatterbot. Spacy is a python library which makes it easier to analyze text and build custom natural language models. Chatterbot is a python library to create a simple chatbot with minimal programming required. "
   ]
  },
  {
   "cell_type": "code",
   "execution_count": 1,
   "metadata": {
    "_cell_guid": "5d8fee34-f454-2642-8b06-ed719f0317e1"
   },
   "outputs": [],
   "source": [
    "# Load libraries\n",
    "from chatterbot import ChatBot\n",
    "from chatterbot.logic import LogicAdapter\n",
    "from chatterbot.trainers import ChatterBotCorpusTrainer\n",
    "from chatterbot.trainers import ListTrainer"
   ]
  },
  {
   "cell_type": "code",
   "execution_count": 2,
   "metadata": {},
   "outputs": [],
   "source": [
    "#Diable the warnings\n",
    "import warnings\n",
    "warnings.filterwarnings('ignore')"
   ]
  },
  {
   "cell_type": "markdown",
   "metadata": {},
   "source": [
    "Before we move to the customised chatbot, let us develop a chatbot using the defualt features and logic adapters of chatterbot package. "
   ]
  },
  {
   "cell_type": "markdown",
   "metadata": {},
   "source": [
    "<a id='3'></a>\n",
    "## 3 Training a default chatbot "
   ]
  },
  {
   "cell_type": "markdown",
   "metadata": {},
   "source": [
    "Before we move on to build a chatbot for customised function avilable in chatterbot. Chatterbot and many other chatbot packages comes with a data utility module that can be used to train the chatbots.\n",
    "\n",
    "Following is a simple example to get started with ChatterBot in python with the following components. \n",
    "* **preprocessors** : ChatterBot’s preprocessors are simple functions that modify the input statement that a chat bot receives before the statement gets processed by the logic adaper. The preprocessors can be customise to perform different preprocessing steps such as \"tokenization\", \"lemmatisation\" etc. so that we have clean and processed data available for further processing. In the example below, the default preprocessor for cleaning white spaces \"clean_whitespace\" is used. \n",
    "\n",
    "* **logic_adapters** : Logic adapters determine the logic for how ChatterBot selects a response to a given input statement.It is possible to enter any number of logic adapters for your bot to use. In the example below we are using two inbuilt adapter. We use log adapters \"Best match\" which returns the best known responses and \"Mathematical Evaluation\" which performs mathematical computation. In the next section we will build our own customised logic, trained using machine learning to perform a specific task. \n",
    "\n",
    "* **corpus training** : ChatterBot comes with a corpus data and utility module that makes it easy to quickly train the bot to communicate.We use the already existing corpus english, english.greetings, english.conversations for training the chatbot. However, the chatbot can be trained using a customised corpus. \n",
    "\n",
    "\n",
    "* **list training** : Just like the corpus training, we train the chatbot with the conversations which can be used for training using ListTrainer. In the example below, we have trained the chatbot using some sample commands defined in the code below. The chatbot can be trained using huge data of conversations.\n"
   ]
  },
  {
   "cell_type": "code",
   "execution_count": 3,
   "metadata": {},
   "outputs": [
    {
     "name": "stdout",
     "output_type": "stream",
     "text": [
      "\r",
      "Training ai.yml: [                    ] 1%"
     ]
    },
    {
     "name": "stderr",
     "output_type": "stream",
     "text": [
      "[nltk_data] Downloading package averaged_perceptron_tagger to\n",
      "[nltk_data]     C:\\Users\\tatsa\\AppData\\Roaming\\nltk_data...\n",
      "[nltk_data]   Package averaged_perceptron_tagger is already up-to-\n",
      "[nltk_data]       date!\n",
      "[nltk_data] Downloading package stopwords to\n",
      "[nltk_data]     C:\\Users\\tatsa\\AppData\\Roaming\\nltk_data...\n",
      "[nltk_data]   Package stopwords is already up-to-date!\n"
     ]
    },
    {
     "name": "stdout",
     "output_type": "stream",
     "text": [
      "Training ai.yml: [####################] 100%\n",
      "Training botprofile.yml: [####################] 100%\n",
      "Training computers.yml: [####################] 100%\n",
      "Training conversations.yml: [####################] 100%\n",
      "Training emotion.yml: [####################] 100%\n",
      "Training food.yml: [####################] 100%\n",
      "Training gossip.yml: [####################] 100%\n",
      "Training greetings.yml: [####################] 100%\n",
      "Training health.yml: [####################] 100%\n",
      "Training history.yml: [####################] 100%\n",
      "Training humor.yml: [####################] 100%\n",
      "Training literature.yml: [####################] 100%\n",
      "Training money.yml: [####################] 100%\n",
      "Training movies.yml: [####################] 100%\n",
      "Training politics.yml: [####################] 100%\n",
      "Training psychology.yml: [####################] 100%\n",
      "Training science.yml: [####################] 100%\n",
      "Training sports.yml: [####################] 100%\n",
      "Training trivia.yml: [####################] 100%\n",
      "Training greetings.yml: [####################] 100%\n",
      "Training conversations.yml: [####################] 100%\n",
      "List Trainer: [####################] 100%\n",
      "List Trainer: [####################] 100%\n"
     ]
    }
   ],
   "source": [
    "chatB = ChatBot(\"Trader\",\n",
    "                preprocessors=['chatterbot.preprocessors.clean_whitespace'],\n",
    "                logic_adapters=['chatterbot.logic.BestMatch',\n",
    "                                'chatterbot.logic.MathematicalEvaluation'])\n",
    "\n",
    "# Corpus Training\n",
    "trainerCorpus = ChatterBotCorpusTrainer(chatB)\n",
    "\n",
    "#Train based on English Corpus\n",
    "trainerCorpus.train(\n",
    "    \"chatterbot.corpus.english\"\n",
    ")\n",
    "# Train based on english greetings corpus\n",
    "trainerCorpus.train(\"chatterbot.corpus.english.greetings\")\n",
    "\n",
    "# Train based on the english conversations corpus\n",
    "trainerCorpus.train(\"chatterbot.corpus.english.conversations\")\n",
    "\n",
    "trainerConversation = ListTrainer(chatB)\n",
    "#Traing based on conversations\n",
    "\n",
    "#List training\n",
    "trainerConversation.train([\n",
    "    'Help!',\n",
    "    'Please go to google.com',\n",
    "    'What is Bitcoin?',\n",
    "    'It is a decentralized digital currency'\n",
    "])\n",
    "\n",
    "# You can train with a second list of data to add response variations\n",
    "trainerConversation.train([\n",
    "    'What is Bitcoin?',\n",
    "    'Bitcoin is a cryptocurrency.'\n",
    "])\n"
   ]
  },
  {
   "cell_type": "code",
   "execution_count": 4,
   "metadata": {},
   "outputs": [],
   "source": [
    "def converse(quit=\"quit\"):\n",
    "    user_input = \"\"\n",
    "    while user_input != quit:\n",
    "        user_input = quit\n",
    "        try:\n",
    "            user_input = input(\">\")\n",
    "        except EOFError:\n",
    "            print(user_input)\n",
    "        if user_input:\n",
    "            while user_input[-1] in \"!.\":\n",
    "                user_input = user_input[:-1]\n",
    "            print(chatB.get_response(user_input))"
   ]
  },
  {
   "cell_type": "code",
   "execution_count": 5,
   "metadata": {},
   "outputs": [
    {
     "name": "stdout",
     "output_type": "stream",
     "text": [
      ">Hi\n",
      "How are you doing?\n",
      ">I am doing well.\n",
      "That is good to hear\n",
      ">What is 78964 plus 5970\n",
      "78964 plus 5970 = 84934\n",
      ">what is a dollar\n",
      "dollar: unit of currency in the united states.\n",
      ">What is Bitcoin?\n",
      "It is a decentralized digital currency\n",
      ">Help!\n",
      "Please go to google.com\n",
      ">Tell me a joke\n",
      "Did you hear the one about the mountain goats in the andes? It was \"ba a a a a a d\".\n",
      ">What is Bitcoin?\n",
      "It is a decentralized digital currency\n",
      ">What is Bitcoin?\n",
      "It is a decentralized digital currency\n",
      ">What is Bitcoin?\n",
      "Bitcoin is a cryptocurrency.\n",
      ">quit\n",
      "no.\n"
     ]
    }
   ],
   "source": [
    "converse()"
   ]
  },
  {
   "cell_type": "markdown",
   "metadata": {},
   "source": [
    "In this example, we see a fairly good chatbot which gives us response according to the input that we have given. The first two responses are due to the training on english greetings and conversation corpus. Additionally the response to \"tell me a joke\" and \"what is a dollar\" are due to the training on the english corpus. The computation in the forth line is the result of the chatbot being trained on the Mathematical Evaluation logical adapter. The response to \"Help\" and \"What is a bitcoin\" are the result of the customised list trainers. \n",
    "\n",
    "Given, that we have already have a customised chatbot, we move on to create a chatbot which is designed to give us the financial ratios of a company based on a customised logical adapter."
   ]
  },
  {
   "cell_type": "markdown",
   "metadata": {},
   "source": [
    "<a id='4'></a>\n",
    "# 4. Data Preparation for customized chatbot"
   ]
  },
  {
   "cell_type": "markdown",
   "metadata": {},
   "source": [
    "The purpose of performing the data preparation is to use it for training through logic adapter.The details are under https://chatterbot.readthedocs.io/en/stable/logic/create-a-logic-adapter.html. Given the logic adapter need to be in a separate file from the chat bot, we perform the step of data preparation in the module financial_ratio_adapter.py where logic adapter is created.\n"
   ]
  },
  {
   "cell_type": "markdown",
   "metadata": {},
   "source": [
    "<a id='5'></a>\n",
    "# 5. Model construction and training"
   ]
  },
  {
   "cell_type": "markdown",
   "metadata": {},
   "source": [
    "<a id='5.1'></a>\n",
    "## 5.1 and 5.2 Model optimization function and building custom logic adapter\n",
    "Step 4.2 and 4.2 are shown in the module financial_ratio_adapter.py, given the logic adapter need to be in a separate file from the chat bot. In the next step we train the chatbot, which trains it on the customised logic adapter. "
   ]
  },
  {
   "cell_type": "markdown",
   "metadata": {},
   "source": [
    "<a id='5.3'></a>\n",
    "## 5.3. Training the model"
   ]
  },
  {
   "cell_type": "markdown",
   "metadata": {},
   "source": [
    "In this step we combine all the components (i.e. preprocessor, custom logical adapter, list and corpus trainer) with the custom logical adapter (financial_ratio_adapter.FinancialRatioAdapter) that we have created. "
   ]
  },
  {
   "cell_type": "code",
   "execution_count": 6,
   "metadata": {},
   "outputs": [
    {
     "name": "stdout",
     "output_type": "stream",
     "text": [
      "Losses {'ner': 250.5925518564882}\n",
      "Losses {'ner': 86.34306746371182}\n",
      "Losses {'ner': 9.912364617525238}\n",
      "Losses {'ner': 0.007054564759577683}\n",
      "Losses {'ner': 0.002342427745124589}\n",
      "Losses {'ner': 0.17200641879483095}\n",
      "Losses {'ner': 0.00014026589302679004}\n",
      "Losses {'ner': 0.04666429370491898}\n",
      "Losses {'ner': 0.0005265609668528584}\n",
      "Losses {'ner': 0.00029906058166727796}\n",
      "Losses {'ner': 5.9895766629850823e-05}\n",
      "Losses {'ner': 0.0006064481033172622}\n",
      "Losses {'ner': 1.0745628683613567e-05}\n",
      "Losses {'ner': 9.724242475936387e-06}\n",
      "Losses {'ner': 1.7436667959465367e-06}\n",
      "Losses {'ner': 5.097320584206234e-07}\n",
      "Losses {'ner': 1.5063773009800355e-06}\n",
      "Losses {'ner': 3.463751450599309e-05}\n",
      "Losses {'ner': 8.846712629581901e-06}\n",
      "Losses {'ner': 5.9018098284142235e-05}\n",
      "Losses {'ner': 6.828183680571441e-07}\n",
      "Losses {'ner': 0.0001549424831125363}\n",
      "Losses {'ner': 0.00011724383958802145}\n",
      "Losses {'ner': 2.327508621099159e-06}\n",
      "Losses {'ner': 2.080900377673051e-05}\n",
      "Losses {'ner': 6.029163538041867e-07}\n",
      "Losses {'ner': 1.5160512220542697e-06}\n",
      "Losses {'ner': 3.181407171575549e-05}\n",
      "Losses {'ner': 9.974447850317994e-05}\n",
      "Losses {'ner': 0.0009394966254818016}\n",
      "Training ai.yml: [######              ] 31%"
     ]
    },
    {
     "name": "stderr",
     "output_type": "stream",
     "text": [
      "[nltk_data] Downloading package averaged_perceptron_tagger to\n",
      "[nltk_data]     C:\\Users\\tatsa\\AppData\\Roaming\\nltk_data...\n",
      "[nltk_data]   Package averaged_perceptron_tagger is already up-to-\n",
      "[nltk_data]       date!\n",
      "[nltk_data] Downloading package stopwords to\n",
      "[nltk_data]     C:\\Users\\tatsa\\AppData\\Roaming\\nltk_data...\n",
      "[nltk_data]   Package stopwords is already up-to-date!\n"
     ]
    },
    {
     "name": "stdout",
     "output_type": "stream",
     "text": [
      "Training ai.yml: [####################] 100%\n",
      "Training botprofile.yml: [####################] 100%\n",
      "Training computers.yml: [####################] 100%\n",
      "Training conversations.yml: [####################] 100%\n",
      "Training emotion.yml: [####################] 100%\n",
      "Training food.yml: [####################] 100%\n",
      "Training gossip.yml: [####################] 100%\n",
      "Training greetings.yml: [####################] 100%\n",
      "Training health.yml: [####################] 100%\n",
      "Training history.yml: [####################] 100%\n",
      "Training humor.yml: [####################] 100%\n",
      "Training literature.yml: [####################] 100%\n",
      "Training money.yml: [####################] 100%\n",
      "Training movies.yml: [####################] 100%\n",
      "Training politics.yml: [####################] 100%\n",
      "Training psychology.yml: [####################] 100%\n",
      "Training science.yml: [####################] 100%\n",
      "Training sports.yml: [####################] 100%\n",
      "Training trivia.yml: [####################] 100%\n",
      "Training greetings.yml: [####################] 100%\n",
      "Training conversations.yml: [####################] 100%\n",
      "List Trainer: [####################] 100%\n",
      "List Trainer: [####################] 100%\n"
     ]
    }
   ],
   "source": [
    "#Here we add \n",
    "chatbot = ChatBot(\n",
    "    \"My ChatterBot\",\n",
    "    preprocessors=['chatterbot.preprocessors.clean_whitespace'],\n",
    "    logic_adapters=[\n",
    "        'financial_ratio_adapter.FinancialRatioAdapter',\n",
    "        'chatterbot.logic.MathematicalEvaluation',\n",
    "        'chatterbot.logic.BestMatch'\n",
    "    ]\n",
    ")\n",
    "\n",
    "#Train based on English Corpus\n",
    "trainerCorpus.train(\n",
    "    \"chatterbot.corpus.english\"\n",
    ")\n",
    "# Train based on english greetings corpus\n",
    "trainerCorpus.train(\"chatterbot.corpus.english.greetings\")\n",
    "\n",
    "# Train based on the english conversations corpus\n",
    "trainerCorpus.train(\"chatterbot.corpus.english.conversations\")\n",
    "\n",
    "trainerConversation = ListTrainer(chatB)\n",
    "#Traing based on conversations\n",
    "\n",
    "trainerConversation.train([\n",
    "    'Help!',\n",
    "    'Please go to google.com',\n",
    "    'What is Bitcoin?',\n",
    "    'It is a decentralized digital currency'\n",
    "])\n",
    "\n",
    "# You can train with a second list of data to add response variations\n",
    "trainerConversation.train([\n",
    "    'What is Bitcoin?',\n",
    "    'Bitcoin is a cryptocurrency.'\n",
    "])\n"
   ]
  },
  {
   "cell_type": "markdown",
   "metadata": {},
   "source": [
    "As we can see the training was not only for the FinancialRatioAdapter, but also for the list and corpus trainer. Let us move to the model testing."
   ]
  },
  {
   "cell_type": "markdown",
   "metadata": {},
   "source": [
    "<a id='6'></a>\n",
    "# 6. Model Testing and Usage"
   ]
  },
  {
   "cell_type": "code",
   "execution_count": 7,
   "metadata": {},
   "outputs": [],
   "source": [
    "def converse(quit=\"quit\"):\n",
    "    user_input = \"\"\n",
    "    while user_input != quit:\n",
    "        user_input = quit\n",
    "        try:\n",
    "            user_input = input(\">\")\n",
    "        except EOFError:\n",
    "            print(user_input)\n",
    "        if user_input:\n",
    "            while user_input[-1] in \"!.\":\n",
    "                user_input = user_input[:-1]\n",
    "            print(chatbot.get_response(user_input))"
   ]
  },
  {
   "cell_type": "code",
   "execution_count": 13,
   "metadata": {},
   "outputs": [
    {
     "name": "stdout",
     "output_type": "stream",
     "text": [
      ">What is ROE for Citibank ?\n",
      "https://www.zacks.com/stock/chart/C/fundamental/return-on-equity-ttm\n",
      "\t\t\t\t\t  \n",
      ">Tell me PE for Delta?\n",
      "https://www.zacks.com/stock/chart/DAL/fundamental/pe-ratio-ttm\n",
      "\t\t\t\t\t  \n",
      ">What is Bitcoin?\n",
      "It is a decentralized digital currency\n",
      ">Help!\n",
      "Please go to google.com\n",
      ">What is 786940 plus 75869\n",
      "786940 plus 75869 = 862809\n",
      ">Do you like dogs?\n",
      "Sorry! Could not figure out what the user wants\n",
      ">Quit\n",
      "Sorry! Could not figure out what the user wants\n",
      ">quit\n",
      "Sorry! Could not figure out what the user wants\n"
     ]
    }
   ],
   "source": [
    "converse()"
   ]
  },
  {
   "cell_type": "markdown",
   "metadata": {},
   "source": [
    "The custom logic adaptor for our Chatter bot, finds a RATIO or a COMPANY in the sentence using our NLP model. If the model finds exactly one COMPANY and exactly one RATIO, it con structs a url to guide the user. Additionally other logical adpater such as mathematical evaluation, and curpus and list trainer work as expected as well. "
   ]
  },
  {
   "cell_type": "markdown",
   "metadata": {},
   "source": [
    "**Conclusion**\n",
    "\n",
    "In this case study, we have learned how to make a chatbot in python using the ChatterBot library. We learnt how to build a custom NLP model and use it in a chatbot. \n",
    "\n",
    "The chatbot understands the intent of your messages with the help of NLP and has successful conversation or retieves the significant information. NLP and ML are used to parse user messages, collect relevant parameters from words and sentences, and map those to actions to take. \n",
    "\n",
    "In order to train a blank model, one must have a substantial training dataset. In this case study, we looked at patterns available to us and used them to generate training samples. Getting the right amount of Training data is usually the hardest parts of constructing a custom model.\n",
    "\n",
    "Using the chatterbot library in Python allows us to built a simple interface to resolve user inputs. \n",
    "\n",
    "There can be a significant enhancement made for each and evey items for the specific tasks required from chatbot. Additional preprocessing steps can be added to have more processed and cleaner data. To generate a response from our bot for input questions, the logic can be refined further to incorporate the concept of text similarity. The chatbot can be trained on a bigger dataset and using more advance ML techniques. A series of custom Logic Adaptors can be used to construct a more sophisticated chatterbot. This can be generalized to more interesting tasks such as retrieving information from a database or asking for more input from the user. \n",
    "\n",
    "However, this case study provides an introduction to all the aspects of chatbot development. Although, it is a very simple bot, its a good starting point to use NLP to create chatbots.\n",
    "\n",
    "\n"
   ]
  }
 ],
 "metadata": {
  "_change_revision": 206,
  "_is_fork": false,
  "kernelspec": {
   "display_name": "Python 3",
   "language": "python",
   "name": "python3"
  },
  "language_info": {
   "codemirror_mode": {
    "name": "ipython",
    "version": 3
   },
   "file_extension": ".py",
   "mimetype": "text/x-python",
   "name": "python",
   "nbconvert_exporter": "python",
   "pygments_lexer": "ipython3",
   "version": "3.7.3"
  }
 },
 "nbformat": 4,
 "nbformat_minor": 1
}
