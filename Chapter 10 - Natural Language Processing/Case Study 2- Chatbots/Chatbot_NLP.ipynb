{
 "cells": [
  {
   "cell_type": "markdown",
   "metadata": {
    "_cell_guid": "83708667-4fdc-1563-7b3a-06b6575d2865"
   },
   "source": [
    "# Digital Assistant: chat-bots\n",
    "\n",
    "Chatbots are virtual assistants that help customers transact or solve problems. These automated programmes use NLP to interact with clients in natural language (by text or voice), and use machine learning algorithms to improve over time. Chatbots are being introduced by a range of financial services firms, often in their mobile apps or social media. While many are still in the trial phase, there is potential for growth as chatbots gain increasing usage, especially among the younger generations, and become more sophisticated. The current generation of chatbots in use by financial services firms is simple, generally providing balance information or alerts to custom ers, or answering simple questions. It is worth observing that the increasing usage of chatbots is correlated with the increased usage of messaging applications.\n",
    "\n",
    "The focus of this case study are as follows:\n",
    "* Understand and build a chatbot\n",
    "* Understand the data preparation required for building a chatbot\n",
    "* Understand the python packages required for chatbot development."
   ]
  },
  {
   "cell_type": "markdown",
   "metadata": {},
   "source": [
    "## Content"
   ]
  },
  {
   "cell_type": "markdown",
   "metadata": {},
   "source": [
    "* [1. Introduction](#0)\n",
    "* [2. Getting Started - Load Libraries and Dataset](#1)\n",
    "    * [2.1. Load Libraries](#1.1) \n",
    "* [3. Data Preparation](#2)\n",
    "* [4.Model Construction and Training](#4)        \n",
    "    * [4.1. Model Construction](#4.1)\n",
    "    * [4.3. Building Custom Logic Adapter](#4.2)\n",
    "    * [4.4. Training the model](#4.3)       \n",
    "* [5.Model Testing and Usage](#5)           "
   ]
  },
  {
   "cell_type": "markdown",
   "metadata": {},
   "source": [
    "<a id='0'></a>\n",
    "# 1. Introduction"
   ]
  },
  {
   "cell_type": "markdown",
   "metadata": {},
   "source": [
    "We know that text is messy. Acronyms, punctuation and spacing can make it hard for machines to infer. Let us focus on a situation where a client wants to know a particu lar financial metric for a company. Experienced users on Bloomberg know that they can get this information using special mnemonics and formulas. While it is always better is a user inquiry follows a standardized format, this should not be a require ment. Chatbots are an effective tool at trying to simplify input output between unsophisticated users and a machine. We have seen that digital assistants are able to infer, commands and accurately perform actions."
   ]
  },
  {
   "cell_type": "markdown",
   "metadata": {},
   "source": [
    "<a id='1'></a>\n",
    "# 2. Getting Started- Loading the data and python packages\n"
   ]
  },
  {
   "cell_type": "markdown",
   "metadata": {},
   "source": [
    "<a id='1.1'></a>\n",
    "## 2.1. Loading the python packages\n",
    "For this case study we will use 2 text based libraries. The first one is spacy and the other one is chatterbot. Spacy is a python library which makes it easier to analyze text and build custom natural language models. Chatterbot is a python library to create a simple chatbot with minimal programming required. "
   ]
  },
  {
   "cell_type": "code",
   "execution_count": 1,
   "metadata": {
    "_cell_guid": "5d8fee34-f454-2642-8b06-ed719f0317e1"
   },
   "outputs": [],
   "source": [
    "# Load libraries\n",
    "import spacy\n",
    "import random\n",
    "from itertools import product\n",
    "\n",
    "from spacy.util import minibatch, compounding\n",
    "from chatterbot import ChatBot\n",
    "from chatterbot.logic import LogicAdapter"
   ]
  },
  {
   "cell_type": "code",
   "execution_count": 2,
   "metadata": {},
   "outputs": [],
   "source": [
    "#Diable the warnings\n",
    "import warnings\n",
    "warnings.filterwarnings('ignore')"
   ]
  },
  {
   "cell_type": "markdown",
   "metadata": {},
   "source": [
    "<a id='2'></a>\n",
    "# 3. Data Preparation"
   ]
  },
  {
   "cell_type": "markdown",
   "metadata": {},
   "source": [
    "The purpose of performing the data preparation is to use it for training through logic adapter.The details are under https://chatterbot.readthedocs.io/en/stable/logic/create-a-logic-adapter.html. Given the logic adapter need to be in a separate file from the chat bot, we perform the step of data preparation in the module financial_ratio_adapter.py where logic adapter is created.\n"
   ]
  },
  {
   "cell_type": "markdown",
   "metadata": {},
   "source": [
    "<a id='4'></a>\n",
    "# 4. Model construction and training"
   ]
  },
  {
   "cell_type": "markdown",
   "metadata": {},
   "source": [
    "<a id='4.1'></a>\n",
    "## 4.1 and 4.2 Model construction and building custom logic adapter\n",
    "Step 4.2 and 4.2 are shown in the module financial_ratio_adapter.py, given the logic adapter need to be in a separate file from the chat bot."
   ]
  },
  {
   "cell_type": "markdown",
   "metadata": {},
   "source": [
    "<a id='4.3'></a>\n",
    "## 4.3. Training the model"
   ]
  },
  {
   "cell_type": "code",
   "execution_count": 3,
   "metadata": {},
   "outputs": [
    {
     "name": "stdout",
     "output_type": "stream",
     "text": [
      "Losses {'ner': 253.9624118709296}\n",
      "Losses {'ner': 70.75482110275692}\n",
      "Losses {'ner': 5.592327416726426}\n",
      "Losses {'ner': 0.002515308649786446}\n",
      "Losses {'ner': 0.007443131007198562}\n",
      "Losses {'ner': 0.00021794943623228299}\n",
      "Losses {'ner': 9.922307301244527e-05}\n",
      "Losses {'ner': 0.0003340717430052945}\n",
      "Losses {'ner': 0.00032099197497782516}\n",
      "Losses {'ner': 0.00017558925171285358}\n",
      "Losses {'ner': 5.067630643607097e-06}\n",
      "Losses {'ner': 0.00015220757190370767}\n",
      "Losses {'ner': 6.248859365176809e-05}\n",
      "Losses {'ner': 0.0007199193086924293}\n",
      "Losses {'ner': 0.000263896859188808}\n",
      "Losses {'ner': 2.3298320814858775e-05}\n",
      "Losses {'ner': 5.207310321225243e-05}\n",
      "Losses {'ner': 2.5313107504429258e-05}\n",
      "Losses {'ner': 6.028351380564064e-07}\n",
      "Losses {'ner': 0.00019265257771270848}\n",
      "Losses {'ner': 1.0342591082060357e-05}\n",
      "Losses {'ner': 2.3374414711233704e-06}\n",
      "Losses {'ner': 7.33300446221077e-07}\n",
      "Losses {'ner': 4.446330182634948e-07}\n",
      "Losses {'ner': 5.928794817372011e-08}\n",
      "Losses {'ner': 2.6139777820455e-05}\n",
      "Losses {'ner': 3.5824341705846345e-05}\n",
      "Losses {'ner': 6.111516806382444e-08}\n",
      "Losses {'ner': 2.382593691598513e-06}\n",
      "Losses {'ner': 5.3244500781158617e-08}\n"
     ]
    },
    {
     "name": "stderr",
     "output_type": "stream",
     "text": [
      "[nltk_data] Downloading package averaged_perceptron_tagger to\n",
      "[nltk_data]     C:\\Users\\tatsa\\AppData\\Roaming\\nltk_data...\n",
      "[nltk_data]   Package averaged_perceptron_tagger is already up-to-\n",
      "[nltk_data]       date!\n",
      "[nltk_data] Downloading package stopwords to\n",
      "[nltk_data]     C:\\Users\\tatsa\\AppData\\Roaming\\nltk_data...\n",
      "[nltk_data]   Package stopwords is already up-to-date!\n"
     ]
    }
   ],
   "source": [
    "chatbot = ChatBot(\n",
    "    \"My ChatterBot\",\n",
    "    logic_adapters=[\n",
    "        'financial_ratio_adapter.FinancialRatioAdapter'\n",
    "    ]\n",
    ")"
   ]
  },
  {
   "cell_type": "markdown",
   "metadata": {},
   "source": [
    "<a id='5'></a>\n",
    "# 5. Model Testing and Usage"
   ]
  },
  {
   "cell_type": "code",
   "execution_count": 4,
   "metadata": {},
   "outputs": [
    {
     "name": "stdout",
     "output_type": "stream",
     "text": [
      "https://www.zacks.com/stock/chart/C/fundamental/return-on-equity-ttm\n",
      "\t\t\t\t\t  \n"
     ]
    }
   ],
   "source": [
    "response = chatbot.get_response(\"What is ROE for Citibank ?\")\n",
    "\n",
    "print(response)"
   ]
  },
  {
   "cell_type": "code",
   "execution_count": 5,
   "metadata": {},
   "outputs": [
    {
     "name": "stdout",
     "output_type": "stream",
     "text": [
      "https://www.zacks.com/stock/chart/DAL/fundamental/pe-ratio-ttm\n",
      "\t\t\t\t\t  \n"
     ]
    }
   ],
   "source": [
    "response = chatbot.get_response(\"Tell me PE for Delta?\")\n",
    "\n",
    "print(response)"
   ]
  },
  {
   "cell_type": "code",
   "execution_count": 6,
   "metadata": {},
   "outputs": [
    {
     "name": "stdout",
     "output_type": "stream",
     "text": [
      "Sorry! Could not figure out what the user wants\n"
     ]
    }
   ],
   "source": [
    "response = chatbot.get_response(\"Do you like dogs?\")\n",
    "\n",
    "print(response)"
   ]
  },
  {
   "cell_type": "markdown",
   "metadata": {},
   "source": [
    "**Conclusion**\n",
    "\n",
    "In this case study, we learnt how to build a custom NER model. This model can then we paired with a chatbot and deployed to help users. The key takeaways are as fol lows:\n",
    "\n",
    "* In order to train a blank model, one must have a substantial training dataset. In this case study, we looked at patterns available to us and used them to generate training samples. Getting the right amount of Training data is usually the hardest parts of constructing a custom model.\n",
    "\n",
    "* Using the chatterbot library in Python allows us to built a simple interface to resolve user inputs. A series of custom Logic Adaptors can be used to construct a more sophisticated chatterbot. This can be generalized to more interesting tasks such as retrieving information from a database or asking for more input from the user.\n",
    "\n"
   ]
  }
 ],
 "metadata": {
  "_change_revision": 206,
  "_is_fork": false,
  "kernelspec": {
   "display_name": "Python 3",
   "language": "python",
   "name": "python3"
  },
  "language_info": {
   "codemirror_mode": {
    "name": "ipython",
    "version": 3
   },
   "file_extension": ".py",
   "mimetype": "text/x-python",
   "name": "python",
   "nbconvert_exporter": "python",
   "pygments_lexer": "ipython3",
   "version": "3.7.3"
  }
 },
 "nbformat": 4,
 "nbformat_minor": 1
}
