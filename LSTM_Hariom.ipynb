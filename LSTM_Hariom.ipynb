{
 "cells": [
  {
   "cell_type": "code",
   "execution_count": 240,
   "metadata": {},
   "outputs": [],
   "source": [
    "# -*- coding: utf-8 -*-\n",
    "\"\"\"\n",
    "Created on Sun Jun 30 10:41:49 2019\n",
    "\n",
    "@author: sahil\n",
    "\"\"\"\n",
    "\n",
    "import pandas as pd\n",
    "import numpy as np\n",
    "import pandas_datareader.data as web\n",
    "\n",
    "from keras.models import Sequential\n",
    "from keras.layers import Dense\n",
    "from keras.layers import LSTM\n",
    "\n",
    "from sklearn.linear_model import LinearRegression\n",
    "\n",
    "\n",
    "# Get the data\n",
    "def get_data():\n",
    "\treturn_period = 21\n",
    "\n",
    "\tstk_tickers = ['MSFT', 'IBM', 'GOOGL']\n",
    "\tccy_tickers = ['DEXJPUS', 'DEXUSUK']\n",
    "\tidx_tickers = ['SP500', 'DJIA', 'VIXCLS']\n",
    "\n",
    "\tstk_data = web.DataReader(stk_tickers, 'yahoo')\n",
    "\tccy_data = web.DataReader(ccy_tickers, 'fred')\n",
    "\tidx_data = web.DataReader(idx_tickers, 'fred')\n",
    "\n",
    "\tY = np.log(stk_data.loc[:, ('Adj Close', 'MSFT')]).diff(return_period).shift(-return_period)\n",
    "\tY.name = Y.name[-1]+'_pred'\n",
    "\n",
    "\tX1 = np.log(stk_data.loc[:, ('Adj Close', ('GOOGL', 'IBM'))]).diff(return_period)\n",
    "\tX1.columns = X1.columns.droplevel()\n",
    "\tX2 = np.log(ccy_data).diff(return_period)\n",
    "\tX3 = np.log(idx_data).diff(return_period)\n",
    "\n",
    "\tX4 = pd.concat([Y.diff(i) for i in [21, 63, 126,252]], axis=1).dropna()\n",
    "\tX4.columns = ['1M', '3M', '6M', '1Y']\n",
    "\n",
    "\tX = pd.concat([X1, X2, X3, X4], axis=1)\n",
    "\n",
    "\tdata = pd.concat([Y, X], axis=1).dropna()\n",
    "\tY = data.loc[:, Y.name]\n",
    "\tX = data.loc[:, X.columns]\n",
    "\treturn X, Y\n",
    "\n",
    "X, Y= get_data()"
   ]
  },
  {
   "cell_type": "code",
   "execution_count": 241,
   "metadata": {},
   "outputs": [],
   "source": [
    "dataset = pd.concat([Y, X], axis=1).dropna()"
   ]
  },
  {
   "cell_type": "code",
   "execution_count": 242,
   "metadata": {},
   "outputs": [
    {
     "data": {
      "text/plain": [
       "(2006, 12)"
      ]
     },
     "execution_count": 242,
     "metadata": {},
     "output_type": "execute_result"
    }
   ],
   "source": [
    "dataset.head(5)\n",
    "dataset.shape"
   ]
  },
  {
   "cell_type": "markdown",
   "metadata": {},
   "source": [
    "Convert the data to the version compatible with supervised learning, where all the dependent variables are lagged along with other IVs.\n",
    "Function to be used as follows:\n",
    "- data: Sequence of observations as a list or 2D NumPy array. Required.\n",
    "- n_in: Number of lag observations as input (X). Values may be between [1..len(data)] Optional. Defaults to 1.\n",
    "- n_out: Number of observations as output (y). Values may be between [0..len(data)-1]. Optional. Defaults to 1.\n",
    "- dropnan: Boolean whether or not to drop rows with NaN values. Optional. Defaults to True."
   ]
  },
  {
   "cell_type": "code",
   "execution_count": 243,
   "metadata": {},
   "outputs": [],
   "source": [
    "# convert series to the data compatible for supervised learning problem\n",
    "#The return of the stock \n",
    "#Keep the name intact\n",
    "def series_to_supervised(data, lag=1, dropnan=True):\n",
    "    n_vars = data.shape[1]\n",
    "    df = pd.DataFrame(data)    \n",
    "    cols, names = list(), list()\n",
    "    for i in range(lag, 0, -1):\n",
    "        cols.append(df.shift(i))\n",
    "        names += [('%s(t-%d)' % (df.columns[j], i)) for j in range(n_vars)]\n",
    "    agg = pd.concat(cols, axis=1)\n",
    "    agg.columns = names\n",
    "    agg = pd.DataFrame(data.iloc[:,0]).join(agg)\n",
    "    # drop rows with NaN values\n",
    "    if dropnan:\n",
    "        agg.dropna(inplace=True)\n",
    "    return agg"
   ]
  },
  {
   "cell_type": "code",
   "execution_count": 244,
   "metadata": {},
   "outputs": [],
   "source": [
    "reframed= series_to_supervised(dataset,1)"
   ]
  },
  {
   "cell_type": "code",
   "execution_count": 245,
   "metadata": {},
   "outputs": [
    {
     "data": {
      "text/html": [
       "<div>\n",
       "<style scoped>\n",
       "    .dataframe tbody tr th:only-of-type {\n",
       "        vertical-align: middle;\n",
       "    }\n",
       "\n",
       "    .dataframe tbody tr th {\n",
       "        vertical-align: top;\n",
       "    }\n",
       "\n",
       "    .dataframe thead th {\n",
       "        text-align: right;\n",
       "    }\n",
       "</style>\n",
       "<table border=\"1\" class=\"dataframe\">\n",
       "  <thead>\n",
       "    <tr style=\"text-align: right;\">\n",
       "      <th></th>\n",
       "      <th>MSFT_pred</th>\n",
       "      <th>MSFT_pred(t-1)</th>\n",
       "      <th>GOOGL(t-1)</th>\n",
       "      <th>IBM(t-1)</th>\n",
       "      <th>DEXJPUS(t-1)</th>\n",
       "      <th>DEXUSUK(t-1)</th>\n",
       "      <th>SP500(t-1)</th>\n",
       "      <th>DJIA(t-1)</th>\n",
       "      <th>VIXCLS(t-1)</th>\n",
       "      <th>1M(t-1)</th>\n",
       "      <th>3M(t-1)</th>\n",
       "      <th>6M(t-1)</th>\n",
       "      <th>1Y(t-1)</th>\n",
       "    </tr>\n",
       "  </thead>\n",
       "  <tbody>\n",
       "    <tr>\n",
       "      <th>2011-01-04</th>\n",
       "      <td>-0.015788</td>\n",
       "      <td>-0.001430</td>\n",
       "      <td>0.055329</td>\n",
       "      <td>0.015719</td>\n",
       "      <td>-0.014243</td>\n",
       "      <td>-0.014930</td>\n",
       "      <td>0.037784</td>\n",
       "      <td>0.025045</td>\n",
       "      <td>-0.022460</td>\n",
       "      <td>-0.041166</td>\n",
       "      <td>-0.137312</td>\n",
       "      <td>-0.078562</td>\n",
       "      <td>0.076488</td>\n",
       "    </tr>\n",
       "    <tr>\n",
       "      <th>2011-01-05</th>\n",
       "      <td>-0.008248</td>\n",
       "      <td>-0.015788</td>\n",
       "      <td>0.049571</td>\n",
       "      <td>0.015426</td>\n",
       "      <td>-0.008988</td>\n",
       "      <td>-0.006013</td>\n",
       "      <td>0.037769</td>\n",
       "      <td>0.028544</td>\n",
       "      <td>-0.036162</td>\n",
       "      <td>-0.054624</td>\n",
       "      <td>-0.120203</td>\n",
       "      <td>-0.058879</td>\n",
       "      <td>0.090435</td>\n",
       "    </tr>\n",
       "    <tr>\n",
       "      <th>2011-01-06</th>\n",
       "      <td>-0.021747</td>\n",
       "      <td>-0.008248</td>\n",
       "      <td>0.051737</td>\n",
       "      <td>0.014108</td>\n",
       "      <td>0.002165</td>\n",
       "      <td>-0.019490</td>\n",
       "      <td>0.042249</td>\n",
       "      <td>0.031519</td>\n",
       "      <td>-0.055427</td>\n",
       "      <td>-0.050560</td>\n",
       "      <td>-0.113445</td>\n",
       "      <td>-0.053893</td>\n",
       "      <td>0.085373</td>\n",
       "    </tr>\n",
       "    <tr>\n",
       "      <th>2011-01-07</th>\n",
       "      <td>-0.011252</td>\n",
       "      <td>-0.021747</td>\n",
       "      <td>0.043917</td>\n",
       "      <td>0.031710</td>\n",
       "      <td>-0.012074</td>\n",
       "      <td>-0.019309</td>\n",
       "      <td>0.036429</td>\n",
       "      <td>0.028162</td>\n",
       "      <td>-0.019352</td>\n",
       "      <td>-0.091807</td>\n",
       "      <td>-0.112116</td>\n",
       "      <td>-0.075489</td>\n",
       "      <td>0.072184</td>\n",
       "    </tr>\n",
       "    <tr>\n",
       "      <th>2011-01-10</th>\n",
       "      <td>-0.008898</td>\n",
       "      <td>-0.011252</td>\n",
       "      <td>0.042924</td>\n",
       "      <td>0.020143</td>\n",
       "      <td>-0.009707</td>\n",
       "      <td>-0.011057</td>\n",
       "      <td>0.030747</td>\n",
       "      <td>0.026446</td>\n",
       "      <td>-0.006397</td>\n",
       "      <td>-0.060340</td>\n",
       "      <td>-0.098501</td>\n",
       "      <td>-0.020871</td>\n",
       "      <td>0.079145</td>\n",
       "    </tr>\n",
       "  </tbody>\n",
       "</table>\n",
       "</div>"
      ],
      "text/plain": [
       "            MSFT_pred  MSFT_pred(t-1)  GOOGL(t-1)  IBM(t-1)  DEXJPUS(t-1)  \\\n",
       "2011-01-04  -0.015788       -0.001430    0.055329  0.015719     -0.014243   \n",
       "2011-01-05  -0.008248       -0.015788    0.049571  0.015426     -0.008988   \n",
       "2011-01-06  -0.021747       -0.008248    0.051737  0.014108      0.002165   \n",
       "2011-01-07  -0.011252       -0.021747    0.043917  0.031710     -0.012074   \n",
       "2011-01-10  -0.008898       -0.011252    0.042924  0.020143     -0.009707   \n",
       "\n",
       "            DEXUSUK(t-1)  SP500(t-1)  DJIA(t-1)  VIXCLS(t-1)   1M(t-1)  \\\n",
       "2011-01-04     -0.014930    0.037784   0.025045    -0.022460 -0.041166   \n",
       "2011-01-05     -0.006013    0.037769   0.028544    -0.036162 -0.054624   \n",
       "2011-01-06     -0.019490    0.042249   0.031519    -0.055427 -0.050560   \n",
       "2011-01-07     -0.019309    0.036429   0.028162    -0.019352 -0.091807   \n",
       "2011-01-10     -0.011057    0.030747   0.026446    -0.006397 -0.060340   \n",
       "\n",
       "             3M(t-1)   6M(t-1)   1Y(t-1)  \n",
       "2011-01-04 -0.137312 -0.078562  0.076488  \n",
       "2011-01-05 -0.120203 -0.058879  0.090435  \n",
       "2011-01-06 -0.113445 -0.053893  0.085373  \n",
       "2011-01-07 -0.112116 -0.075489  0.072184  \n",
       "2011-01-10 -0.098501 -0.020871  0.079145  "
      ]
     },
     "execution_count": 245,
     "metadata": {},
     "output_type": "execute_result"
    }
   ],
   "source": [
    "#Drop Column that are not needed all the columns related to the current time period of the IVs\n",
    "#reframed=reframed.iloc[:,0:int(reframed.shape[1]/2+1)]\n",
    "reframed.head(5)"
   ]
  },
  {
   "cell_type": "code",
   "execution_count": 246,
   "metadata": {},
   "outputs": [],
   "source": [
    "Y= np.array(reframed[\"MSFT_pred\"])\n",
    "X = np.array(reframed.loc[:, reframed.columns != 'MSFT_pred'])"
   ]
  },
  {
   "cell_type": "code",
   "execution_count": 247,
   "metadata": {},
   "outputs": [],
   "source": [
    "# split out validation dataset for the end\n",
    "# from sklearn.preprocessing import StandardScaler\n",
    "# scaler = StandardScaler().fit(X)\n",
    "# StandardisedX = pd.DataFrame(scaler.fit_transform(X))\n",
    "validation_size = 0.2\n",
    "seed = 7\n",
    "X_train, X_validation, Y_train, Y_validation = train_test_split(X, Y, test_size=validation_size, random_state=seed)"
   ]
  },
  {
   "cell_type": "code",
   "execution_count": 248,
   "metadata": {},
   "outputs": [
    {
     "name": "stdout",
     "output_type": "stream",
     "text": [
      "(1604, 1, 12) (1604,) (401, 1, 12) (401,)\n"
     ]
    }
   ],
   "source": [
    "X_train= X_train.reshape((X_train.shape[0], 1, X_train.shape[1]))\n",
    "X_validation= X_validation.reshape((X_validation.shape[0], 1, X_validation.shape[1]))\n",
    "print(X_train.shape, Y_train.shape, X_validation.shape, Y_validation.shape)"
   ]
  },
  {
   "cell_type": "code",
   "execution_count": 249,
   "metadata": {},
   "outputs": [
    {
     "data": {
      "text/plain": [
       "array([[[-0.00540012,  0.06675433,  0.01397417, ...,  0.00807343,\n",
       "         -0.03000404,  0.0606205 ]],\n",
       "\n",
       "       [[ 0.04305776,  0.06377137, -0.03087694, ...,  0.0694208 ,\n",
       "          0.10786274,  0.01224553]],\n",
       "\n",
       "       [[ 0.06508718, -0.02935815,  0.00292757, ...,  0.04750487,\n",
       "          0.11596184,  0.05083729]],\n",
       "\n",
       "       ...,\n",
       "\n",
       "       [[ 0.07566343, -0.05495538,  0.00909798, ...,  0.04853943,\n",
       "          0.08134031,  0.1036531 ]],\n",
       "\n",
       "       [[ 0.02460392, -0.00218574,  0.04347873, ..., -0.02506848,\n",
       "          0.09062454,  0.05350333]],\n",
       "\n",
       "       [[ 0.08047208,  0.00354015,  0.02583158, ..., -0.04454768,\n",
       "          0.0882513 ,  0.04232268]]])"
      ]
     },
     "execution_count": 249,
     "metadata": {},
     "output_type": "execute_result"
    }
   ],
   "source": [
    "X_train"
   ]
  },
  {
   "cell_type": "code",
   "execution_count": 250,
   "metadata": {},
   "outputs": [
    {
     "name": "stdout",
     "output_type": "stream",
     "text": [
      "Train on 1604 samples, validate on 401 samples\n",
      "Epoch 1/50\n",
      "1604/1604 [==============================] - 1s 479us/step - loss: 0.0415 - val_loss: 0.0357\n",
      "Epoch 2/50\n",
      "1604/1604 [==============================] - 0s 25us/step - loss: 0.0307 - val_loss: 0.0257\n",
      "Epoch 3/50\n",
      "1604/1604 [==============================] - 0s 25us/step - loss: 0.0233 - val_loss: 0.0205\n",
      "Epoch 4/50\n",
      "1604/1604 [==============================] - 0s 22us/step - loss: 0.0211 - val_loss: 0.0196\n",
      "Epoch 5/50\n",
      "1604/1604 [==============================] - 0s 25us/step - loss: 0.0205 - val_loss: 0.0193\n",
      "Epoch 6/50\n",
      "1604/1604 [==============================] - 0s 25us/step - loss: 0.0199 - val_loss: 0.0189\n",
      "Epoch 7/50\n",
      "1604/1604 [==============================] - 0s 22us/step - loss: 0.0194 - val_loss: 0.0186\n",
      "Epoch 8/50\n",
      "1604/1604 [==============================] - 0s 22us/step - loss: 0.0190 - val_loss: 0.0182\n",
      "Epoch 9/50\n",
      "1604/1604 [==============================] - 0s 22us/step - loss: 0.0186 - val_loss: 0.0179\n",
      "Epoch 10/50\n",
      "1604/1604 [==============================] - 0s 22us/step - loss: 0.0182 - val_loss: 0.0175\n",
      "Epoch 11/50\n",
      "1604/1604 [==============================] - 0s 22us/step - loss: 0.0178 - val_loss: 0.0171\n",
      "Epoch 12/50\n",
      "1604/1604 [==============================] - 0s 22us/step - loss: 0.0173 - val_loss: 0.0168\n",
      "Epoch 13/50\n",
      "1604/1604 [==============================] - 0s 22us/step - loss: 0.0170 - val_loss: 0.0164\n",
      "Epoch 14/50\n",
      "1604/1604 [==============================] - 0s 22us/step - loss: 0.0166 - val_loss: 0.0161\n",
      "Epoch 15/50\n",
      "1604/1604 [==============================] - 0s 22us/step - loss: 0.0163 - val_loss: 0.0158\n",
      "Epoch 16/50\n",
      "1604/1604 [==============================] - 0s 22us/step - loss: 0.0160 - val_loss: 0.0156\n",
      "Epoch 17/50\n",
      "1604/1604 [==============================] - 0s 22us/step - loss: 0.0159 - val_loss: 0.0154\n",
      "Epoch 18/50\n",
      "1604/1604 [==============================] - 0s 25us/step - loss: 0.0157 - val_loss: 0.0153\n",
      "Epoch 19/50\n",
      "1604/1604 [==============================] - 0s 25us/step - loss: 0.0156 - val_loss: 0.0152\n",
      "Epoch 20/50\n",
      "1604/1604 [==============================] - 0s 25us/step - loss: 0.0155 - val_loss: 0.0152\n",
      "Epoch 21/50\n",
      "1604/1604 [==============================] - 0s 25us/step - loss: 0.0154 - val_loss: 0.0151\n",
      "Epoch 22/50\n",
      "1604/1604 [==============================] - 0s 25us/step - loss: 0.0154 - val_loss: 0.0150\n",
      "Epoch 23/50\n",
      "1604/1604 [==============================] - 0s 25us/step - loss: 0.0154 - val_loss: 0.0150\n",
      "Epoch 24/50\n",
      "1604/1604 [==============================] - 0s 22us/step - loss: 0.0153 - val_loss: 0.0152\n",
      "Epoch 25/50\n",
      "1604/1604 [==============================] - 0s 22us/step - loss: 0.0154 - val_loss: 0.0151\n",
      "Epoch 26/50\n",
      "1604/1604 [==============================] - 0s 22us/step - loss: 0.0154 - val_loss: 0.0150\n",
      "Epoch 27/50\n",
      "1604/1604 [==============================] - 0s 25us/step - loss: 0.0153 - val_loss: 0.0151\n",
      "Epoch 28/50\n",
      "1604/1604 [==============================] - 0s 20us/step - loss: 0.0154 - val_loss: 0.0150\n",
      "Epoch 29/50\n",
      "1604/1604 [==============================] - 0s 22us/step - loss: 0.0153 - val_loss: 0.0151\n",
      "Epoch 30/50\n",
      "1604/1604 [==============================] - 0s 22us/step - loss: 0.0153 - val_loss: 0.0150\n",
      "Epoch 31/50\n",
      "1604/1604 [==============================] - 0s 27us/step - loss: 0.0153 - val_loss: 0.0150\n",
      "Epoch 32/50\n",
      "1604/1604 [==============================] - 0s 24us/step - loss: 0.0153 - val_loss: 0.0151\n",
      "Epoch 33/50\n",
      "1604/1604 [==============================] - 0s 23us/step - loss: 0.0153 - val_loss: 0.0151\n",
      "Epoch 34/50\n",
      "1604/1604 [==============================] - 0s 25us/step - loss: 0.0153 - val_loss: 0.0151\n",
      "Epoch 35/50\n",
      "1604/1604 [==============================] - 0s 25us/step - loss: 0.0153 - val_loss: 0.0151\n",
      "Epoch 36/50\n",
      "1604/1604 [==============================] - 0s 24us/step - loss: 0.0153 - val_loss: 0.0150\n",
      "Epoch 37/50\n",
      "1604/1604 [==============================] - 0s 22us/step - loss: 0.0153 - val_loss: 0.0150\n",
      "Epoch 38/50\n",
      "1604/1604 [==============================] - 0s 22us/step - loss: 0.0153 - val_loss: 0.0150\n",
      "Epoch 39/50\n",
      "1604/1604 [==============================] - 0s 22us/step - loss: 0.0153 - val_loss: 0.0149\n",
      "Epoch 40/50\n",
      "1604/1604 [==============================] - 0s 22us/step - loss: 0.0153 - val_loss: 0.0150\n",
      "Epoch 41/50\n",
      "1604/1604 [==============================] - 0s 22us/step - loss: 0.0153 - val_loss: 0.0149\n",
      "Epoch 42/50\n",
      "1604/1604 [==============================] - 0s 25us/step - loss: 0.0153 - val_loss: 0.0149\n",
      "Epoch 43/50\n",
      "1604/1604 [==============================] - 0s 20us/step - loss: 0.0153 - val_loss: 0.0150\n",
      "Epoch 44/50\n",
      "1604/1604 [==============================] - 0s 22us/step - loss: 0.0153 - val_loss: 0.0150\n",
      "Epoch 45/50\n",
      "1604/1604 [==============================] - 0s 22us/step - loss: 0.0153 - val_loss: 0.0150\n",
      "Epoch 46/50\n",
      "1604/1604 [==============================] - 0s 25us/step - loss: 0.0152 - val_loss: 0.0149\n",
      "Epoch 47/50\n",
      "1604/1604 [==============================] - 0s 22us/step - loss: 0.0152 - val_loss: 0.0150\n",
      "Epoch 48/50\n",
      "1604/1604 [==============================] - 0s 22us/step - loss: 0.0153 - val_loss: 0.0150\n",
      "Epoch 49/50\n",
      "1604/1604 [==============================] - 0s 25us/step - loss: 0.0152 - val_loss: 0.0150\n",
      "Epoch 50/50\n",
      "1604/1604 [==============================] - 0s 25us/step - loss: 0.0153 - val_loss: 0.0149\n"
     ]
    }
   ],
   "source": [
    "# design network\n",
    "from matplotlib import pyplot\n",
    "model = Sequential()\n",
    "model.add(LSTM(50, input_shape=(X_train.shape[1], X_train.shape[2])))\n",
    "model.add(Dense(1))\n",
    "model.compile(loss='mae', optimizer='adam')\n",
    "# fit network\n",
    "history = model.fit(X_train, Y_train, epochs=50, batch_size=72, validation_data=(X_validation, Y_validation), verbose=1, shuffle=False)\n",
    "# plot history\n"
   ]
  },
  {
   "cell_type": "code",
   "execution_count": 251,
   "metadata": {},
   "outputs": [
    {
     "data": {
      "image/png": "[encoded data removed]",
      "text/plain": [
       "<Figure size 432x288 with 1 Axes>"
      ]
     },
     "metadata": {
      "needs_background": "light"
     },
     "output_type": "display_data"
    }
   ],
   "source": [
    "pyplot.plot(history.history['loss'], label='train')\n",
    "pyplot.plot(history.history['val_loss'], label='test')\n",
    "pyplot.legend()\n",
    "pyplot.show()"
   ]
  },
  {
   "cell_type": "code",
   "execution_count": 252,
   "metadata": {},
   "outputs": [
    {
     "data": {
      "text/plain": [
       "(401, 1)"
      ]
     },
     "execution_count": 252,
     "metadata": {},
     "output_type": "execute_result"
    }
   ],
   "source": [
    "# make a prediction\n",
    "predictions = model.predict(X_validation)\n",
    "predictions.shape"
   ]
  },
  {
   "cell_type": "code",
   "execution_count": 253,
   "metadata": {},
   "outputs": [],
   "source": [
    "Y_validation = Y_validation.reshape((len(Y_validation), 1))\n",
    "#Y_validation.shape"
   ]
  },
  {
   "cell_type": "code",
   "execution_count": 254,
   "metadata": {},
   "outputs": [
    {
     "name": "stdout",
     "output_type": "stream",
     "text": [
      "0.0004356925211400366\n",
      "0.8550426566147347\n"
     ]
    }
   ],
   "source": [
    "# calculate RMSE\n",
    "from sklearn.metrics import mean_squared_error\n",
    "from sklearn.metrics import r2_score\n",
    "print(mean_squared_error(Y_validation, predictions))\n",
    "print(r2_score(Y_validation, predictions))"
   ]
  },
  {
   "cell_type": "code",
   "execution_count": 255,
   "metadata": {},
   "outputs": [
    {
     "data": {
      "text/plain": [
       "(2005, 12)"
      ]
     },
     "execution_count": 255,
     "metadata": {},
     "output_type": "execute_result"
    }
   ],
   "source": [
    "X.shape"
   ]
  },
  {
   "cell_type": "code",
   "execution_count": 256,
   "metadata": {},
   "outputs": [
    {
     "data": {
      "text/plain": [
       "2011-01-04    0.076488\n",
       "2011-01-05    0.090435\n",
       "2011-01-06    0.085373\n",
       "2011-01-07    0.072184\n",
       "2011-01-10    0.079145\n",
       "2011-01-11    0.069411\n",
       "2011-01-12    0.045107\n",
       "2011-01-13    0.036491\n",
       "2011-01-14    0.048756\n",
       "2011-01-18    0.029124\n",
       "2011-01-19    0.013250\n",
       "2011-01-20    0.017302\n",
       "2011-01-21   -0.001753\n",
       "2011-01-25   -0.029161\n",
       "2011-01-26   -0.028655\n",
       "2011-01-27   -0.045138\n",
       "2011-01-28   -0.076604\n",
       "2011-02-01   -0.067663\n",
       "2011-02-02   -0.070815\n",
       "2011-02-03   -0.071262\n",
       "2011-02-04   -0.099111\n",
       "2011-02-07   -0.095556\n",
       "2011-02-08   -0.128344\n",
       "2011-02-09   -0.146706\n",
       "2011-02-10   -0.128908\n",
       "2011-02-11   -0.107621\n",
       "2011-02-14   -0.119743\n",
       "2011-02-16   -0.132146\n",
       "2011-02-17   -0.106909\n",
       "2011-02-18   -0.100036\n",
       "                ...   \n",
       "2019-04-30   -0.081137\n",
       "2019-05-01   -0.061231\n",
       "2019-05-02   -0.090464\n",
       "2019-05-03   -0.092045\n",
       "2019-05-06   -0.121153\n",
       "2019-05-07   -0.096593\n",
       "2019-05-08   -0.053747\n",
       "2019-05-09   -0.017898\n",
       "2019-05-10    0.002837\n",
       "2019-05-13   -0.009528\n",
       "2019-05-14    0.031708\n",
       "2019-05-15    0.022158\n",
       "2019-05-16    0.017079\n",
       "2019-05-17   -0.015640\n",
       "2019-05-21    0.023669\n",
       "2019-05-22    0.030574\n",
       "2019-05-23    0.027493\n",
       "2019-05-24    0.051296\n",
       "2019-05-28    0.037810\n",
       "2019-05-29    0.058953\n",
       "2019-05-30    0.063831\n",
       "2019-05-31    0.068211\n",
       "2019-06-03    0.095841\n",
       "2019-06-04    0.133083\n",
       "2019-06-05    0.117618\n",
       "2019-06-06    0.111594\n",
       "2019-06-07    0.093133\n",
       "2019-06-10    0.050847\n",
       "2019-06-11    0.029259\n",
       "2019-06-12    0.041779\n",
       "Name: 1Y(t-1), Length: 2005, dtype: float64"
      ]
     },
     "execution_count": 256,
     "metadata": {},
     "output_type": "execute_result"
    }
   ],
   "source": [
    "reframed.iloc[:,-1]"
   ]
  }
 ],
 "metadata": {
  "kernelspec": {
   "display_name": "Python 3",
   "language": "python",
   "name": "python3"
  },
  "language_info": {
   "codemirror_mode": {
    "name": "ipython",
    "version": 3
   },
   "file_extension": ".py",
   "mimetype": "text/x-python",
   "name": "python",
   "nbconvert_exporter": "python",
   "pygments_lexer": "ipython3",
   "version": "3.7.3"
  }
 },
 "nbformat": 4,
 "nbformat_minor": 2
}
