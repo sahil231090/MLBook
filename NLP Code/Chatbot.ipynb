{
 "cells": [
  {
   "cell_type": "code",
   "execution_count": 1,
   "metadata": {},
   "outputs": [],
   "source": [
    "from chatterbot import ChatBot"
   ]
  },
  {
   "cell_type": "code",
   "execution_count": 2,
   "metadata": {},
   "outputs": [
    {
     "name": "stdout",
     "output_type": "stream",
     "text": [
      "Losses {'ner': 241.4654244739469}\n",
      "Losses {'ner': 103.12799014026345}\n",
      "Losses {'ner': 14.111807037075097}\n",
      "Losses {'ner': 0.06421782913107053}\n",
      "Losses {'ner': 0.007316067528240707}\n",
      "Losses {'ner': 0.0005129278123799493}\n",
      "Losses {'ner': 7.624845023830407e-05}\n",
      "Losses {'ner': 1.621929562072409e-05}\n",
      "Losses {'ner': 2.1747773027793724e-05}\n",
      "Losses {'ner': 0.0015507782404409133}\n",
      "Losses {'ner': 0.00011555691132396465}\n",
      "Losses {'ner': 8.351781970836282e-06}\n",
      "Losses {'ner': 1.539188411653489e-05}\n",
      "Losses {'ner': 6.396553762543155e-05}\n",
      "Losses {'ner': 4.904940554575137e-07}\n",
      "Losses {'ner': 4.731127515912038e-05}\n",
      "Losses {'ner': 1.3263952314723806e-06}\n",
      "Losses {'ner': 6.518458008441639e-05}\n",
      "Losses {'ner': 2.316113775428558e-06}\n",
      "Losses {'ner': 3.293918171336996e-05}\n",
      "Losses {'ner': 4.8830691931029054e-06}\n",
      "Losses {'ner': 8.78005710589483e-06}\n",
      "Losses {'ner': 0.00017588181546783252}\n",
      "Losses {'ner': 0.0001664287845679514}\n",
      "Losses {'ner': 0.002014314885493969}\n",
      "Losses {'ner': 8.627172028950349e-06}\n",
      "Losses {'ner': 1.4489254814604224e-05}\n",
      "Losses {'ner': 9.975230443050974e-06}\n",
      "Losses {'ner': 6.019108967355402e-07}\n",
      "Losses {'ner': 8.29387114130838e-06}\n",
      "[nltk_data] Downloading package stopwords to\n",
      "[nltk_data]     C:\\Users\\sahil\\AppData\\Roaming\\nltk_data...\n",
      "[nltk_data]   Package stopwords is already up-to-date!\n",
      "[nltk_data] Downloading package averaged_perceptron_tagger to\n",
      "[nltk_data]     C:\\Users\\sahil\\AppData\\Roaming\\nltk_data...\n",
      "[nltk_data]   Package averaged_perceptron_tagger is already up-to-\n",
      "[nltk_data]       date!\n"
     ]
    }
   ],
   "source": [
    "chatbot = ChatBot(\n",
    "    \"My ChatterBot\",\n",
    "    logic_adapters=[\n",
    "        'financial_ratio_adapter.FinancialRatioAdapter'\n",
    "    ]\n",
    ")"
   ]
  },
  {
   "cell_type": "code",
   "execution_count": 3,
   "metadata": {},
   "outputs": [
    {
     "name": "stdout",
     "output_type": "stream",
     "text": [
      "Getting return-on-equity-ttm for DAL\n"
     ]
    }
   ],
   "source": [
    "response = chatbot.get_response(\"Get me the ROE for Delta\")\n",
    "\n",
    "print(response)"
   ]
  },
  {
   "cell_type": "code",
   "execution_count": 4,
   "metadata": {},
   "outputs": [
    {
     "name": "stdout",
     "output_type": "stream",
     "text": [
      "Sorry! Could not figure out what the user wants\n"
     ]
    }
   ],
   "source": [
    "response = chatbot.get_response(\"Do you like dogs?\")\n",
    "\n",
    "print(response)"
   ]
  },
  {
   "cell_type": "code",
   "execution_count": 5,
   "metadata": {},
   "outputs": [
    {
     "name": "stdout",
     "output_type": "stream",
     "text": [
      "Sorry! Could not figure out what the user wants\n"
     ]
    }
   ],
   "source": [
    "response = chatbot.get_response(\"Do you like foo?\")\n",
    "\n",
    "print(response)"
   ]
  }
 ],
 "metadata": {
  "kernelspec": {
   "display_name": "Python 3",
   "language": "python",
   "name": "python3"
  },
  "language_info": {
   "codemirror_mode": {
    "name": "ipython",
    "version": 3
   },
   "file_extension": ".py",
   "mimetype": "text/x-python",
   "name": "python",
   "nbconvert_exporter": "python",
   "pygments_lexer": "ipython3",
   "version": "3.6.5"
  }
 },
 "nbformat": 4,
 "nbformat_minor": 2
}
